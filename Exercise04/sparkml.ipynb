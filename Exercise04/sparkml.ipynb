{
 "cells": [
  {
   "cell_type": "markdown",
   "metadata": {},
   "source": [
    "## Spark ML using logistic Regression  \n",
    "The problem here is to predict the grade (Passing or Failing) of City of Chicago restaurant inspections based on the notes made by the inspector.  \n",
    "\n",
    "This uses logistic regression.  Suppose you have a set of feature vectors $x_i \\in R^n$ for $i$ in in $[0,m]$.  Associated with each feature vector we have a binary result $y_i$.  We are interested in the probability $P(y =1 | x)$ which we write as the function $p(x)$. However because $p(x)$ is between 0 and 1 it is not expressable as a linear function of x so we can't use regular linear regression, so we look at the odds expression $p(x) / (1-p(x))$ and make the guess that its log is linear. In other words\n",
    "\n",
    "$$ ln( \\frac{p(x)}{1-p(x)}) = b_0 + b \\cdot x$$\n",
    "\n",
    "where the offset $b_0$ and the vector $b = [b_1, b_2, ... b_n]$ define a hyperplane for linear regression.  solving this for $p(x)$ we get\n",
    "\n",
    "$$p(x) = \\frac {1}{1+e^{-(b_0 + b \\cdot x)}}  $$\n",
    "\n",
    "And we say $y=1$  if $p(x)>0$  otherwise it is zero.   Unfortunately finding the best $b_0$ and $b$ is not as easy as straight linear regression, but simple Newton like iterations will converge to good solutions. \n",
    "\n",
    "\n",
    "We note that the logistic function $\\sigma (t)$ is defined as follows:\n",
    "\n",
    "$$\\sigma (t)= \\frac {e^t}{e^{t}+1} =\\frac {1}{1+e^{-t}}$$\n",
    "\n",
    "It is used frequently in machine learning to map a real number into a probabilty range $[0,1]$ .\n",
    "\n",
    "\n",
    " "
   ]
  },
  {
   "cell_type": "code",
   "execution_count": 1,
   "metadata": {
    "collapsed": false,
    "jupyter": {
     "outputs_hidden": false
    }
   },
   "outputs": [
    {
     "data": {
      "text/html": [
       "\n",
       "        <div>\n",
       "            <p><b>SparkContext</b></p>\n",
       "\n",
       "            <p><a href=\"http://datasciencevm.internal.cloudapp.net:4040\">Spark UI</a></p>\n",
       "\n",
       "            <dl>\n",
       "              <dt>Version</dt>\n",
       "                <dd><code>v3.1.2</code></dd>\n",
       "              <dt>Master</dt>\n",
       "                <dd><code>local[*]</code></dd>\n",
       "              <dt>AppName</dt>\n",
       "                <dd><code>pyspark-shell</code></dd>\n",
       "            </dl>\n",
       "        </div>\n",
       "        "
      ],
      "text/plain": [
       "<SparkContext master=local[*] appName=pyspark-shell>"
      ]
     },
     "execution_count": 1,
     "metadata": {},
     "output_type": "execute_result"
    }
   ],
   "source": [
    "sc"
   ]
  },
  {
   "cell_type": "code",
   "execution_count": 2,
   "metadata": {},
   "outputs": [],
   "source": [
    "from pyspark.ml import Pipeline\n",
    "from pyspark.ml.classification import LogisticRegression\n",
    "from pyspark.ml.feature import HashingTF, Tokenizer\n",
    "from pyspark.sql import Row\n",
    "from pyspark.sql.functions import UserDefinedFunction\n",
    "from pyspark.sql.types import *"
   ]
  },
  {
   "cell_type": "code",
   "execution_count": 3,
   "metadata": {},
   "outputs": [],
   "source": [
    "def csvParse(s):\n",
    "    import csv\n",
    "    from io import StringIO\n",
    "    sio = StringIO(s)\n",
    "    value = next(csv.reader(sio))\n",
    "    sio.close()\n",
    "    return value"
   ]
  },
  {
   "cell_type": "markdown",
   "metadata": {},
   "source": [
    "## The version in this notebook uses a slightly different input file from the one in the Azure HDInsight demo.   \n",
    "This notebook will run on spark on your laptop."
   ]
  },
  {
   "cell_type": "code",
   "execution_count": 4,
   "metadata": {},
   "outputs": [],
   "source": [
    "#inspections = spark.sparkContext.textFile('wasb:///HdiSamples/HdiSamples/FoodInspectionData/Food_Inspections1.csv')\\\n",
    "#                .map(csvParse)\n",
    "\n",
    "inspections = sc.textFile('./Food_Inspections.csv') \\\n",
    "                .map(csvParse)"
   ]
  },
  {
   "cell_type": "code",
   "execution_count": 5,
   "metadata": {
    "collapsed": false,
    "jupyter": {
     "outputs_hidden": false
    }
   },
   "outputs": [
    {
     "data": {
      "text/plain": [
       "222863"
      ]
     },
     "execution_count": 5,
     "metadata": {},
     "output_type": "execute_result"
    }
   ],
   "source": [
    "inspections.count()"
   ]
  },
  {
   "cell_type": "code",
   "execution_count": 6,
   "metadata": {
    "collapsed": false,
    "jupyter": {
     "outputs_hidden": false
    }
   },
   "outputs": [
    {
     "data": {
      "text/plain": [
       "[['2522790',\n",
       "  'BALMORAL HOME, INC.',\n",
       "  'BALMORAL HOME',\n",
       "  '2204252',\n",
       "  'Long Term Care',\n",
       "  'Risk 1 (High)',\n",
       "  '2055 W BALMORAL AVE ',\n",
       "  'CHICAGO',\n",
       "  'IL',\n",
       "  '60625',\n",
       "  '07/16/2021',\n",
       "  'Canvass Re-Inspection',\n",
       "  'Pass',\n",
       "  '',\n",
       "  '41.97952633',\n",
       "  '-87.68168538',\n",
       "  '(-87.68168537626536, 41.97952632945265)'],\n",
       " ['2522786',\n",
       "  'SHARKS FISH & CHICKEN',\n",
       "  'SHARKS FISH & CHICKEN',\n",
       "  '2637382',\n",
       "  'Restaurant',\n",
       "  'Risk 2 (Medium)',\n",
       "  '215-225 W PERSHING RD ',\n",
       "  'CHICAGO',\n",
       "  'IL',\n",
       "  '60609',\n",
       "  '07/15/2021',\n",
       "  'Complaint',\n",
       "  'No Entry',\n",
       "  '',\n",
       "  '41.8235215',\n",
       "  '-87.63202843',\n",
       "  '(-87.63202842863733, 41.82352150094371)'],\n",
       " ['2522793',\n",
       "  'Tom and Jerrys Gyros of Chicago',\n",
       "  \"TOM AND JERRY'S\",\n",
       "  '2797536',\n",
       "  'Restaurant',\n",
       "  'Risk 1 (High)',\n",
       "  '6359 W MONTROSE AVE ',\n",
       "  'CHICAGO',\n",
       "  'IL',\n",
       "  '60634',\n",
       "  '07/16/2021',\n",
       "  'License',\n",
       "  'Not Ready',\n",
       "  '',\n",
       "  '41.96010806',\n",
       "  '-87.78674163',\n",
       "  '(-87.78674162992827, 41.960108059177585)'],\n",
       " ['2522764',\n",
       "  'TINY GIANTS EARLY LEARNING CENTER BY LAKE SHORE SC',\n",
       "  'TINY GIANTS EARLY LEARNING CENTER',\n",
       "  '2320579',\n",
       "  \"Children's Services Facility\",\n",
       "  'Risk 1 (High)',\n",
       "  '3911-3917 N WESTERN AVE ',\n",
       "  'CHICAGO',\n",
       "  'IL',\n",
       "  '60618',\n",
       "  '07/15/2021',\n",
       "  'License',\n",
       "  'Pass',\n",
       "  '',\n",
       "  '41.95252857',\n",
       "  '-87.68827657',\n",
       "  '(-87.68827657452185, 41.95252857102897)'],\n",
       " ['2522736',\n",
       "  'CJ MINIMART',\n",
       "  'CJ MINIMART',\n",
       "  '2796641',\n",
       "  'Grocery Store',\n",
       "  'Risk 3 (Low)',\n",
       "  '2124 E 71ST ST ',\n",
       "  'CHICAGO',\n",
       "  'IL',\n",
       "  '60649',\n",
       "  '07/15/2021',\n",
       "  'License Re-Inspection',\n",
       "  'Pass',\n",
       "  '',\n",
       "  '41.76638359',\n",
       "  '-87.57277928',\n",
       "  '(-87.57277927543575, 41.76638358992873)'],\n",
       " ['2522731',\n",
       "  \"NICKY'S IN-N-OUT\",\n",
       "  \"NICKY'S IN-N-OUT\",\n",
       "  '1869265',\n",
       "  'Restaurant',\n",
       "  'Risk 1 (High)',\n",
       "  '4240 S WENTWORTH AVE ',\n",
       "  'CHICAGO',\n",
       "  'IL',\n",
       "  '60609',\n",
       "  '07/15/2021',\n",
       "  'Canvass Re-Inspection',\n",
       "  'Pass',\n",
       "  '55. PHYSICAL FACILITIES INSTALLED, MAINTAINED & CLEAN - Comments: Inspector Comments: MUST GROUT FLOOR NEAR ICE MACHINE.',\n",
       "  '41.81704209',\n",
       "  '-87.63136993',\n",
       "  '(-87.63136993064244, 41.817042094931985)'],\n",
       " ['2522733',\n",
       "  \"MR.NICKY'S GYROS\",\n",
       "  \"NICKY'S GYROS\",\n",
       "  '2797051',\n",
       "  'Restaurant',\n",
       "  'Risk 1 (High)',\n",
       "  '4240 S WENTWORTH AVE ',\n",
       "  'CHICAGO',\n",
       "  'IL',\n",
       "  '60609',\n",
       "  '07/15/2021',\n",
       "  'License',\n",
       "  'Pass',\n",
       "  '55. PHYSICAL FACILITIES INSTALLED, MAINTAINED & CLEAN - Comments: MUST GROUT FLOOR NEAR ICE MACHINE.',\n",
       "  '41.81704209',\n",
       "  '-87.63136993',\n",
       "  '(-87.63136993064244, 41.817042094931985)'],\n",
       " ['2522719',\n",
       "  'CHENG CHOPSTICKS',\n",
       "  'CHENG CHOPSTICKS',\n",
       "  '2664003',\n",
       "  'Restaurant',\n",
       "  'Risk 1 (High)',\n",
       "  '3054 W ARMITAGE AVE ',\n",
       "  'CHICAGO',\n",
       "  'IL',\n",
       "  '60647',\n",
       "  '07/14/2021',\n",
       "  'Canvass',\n",
       "  'Pass',\n",
       "  '49. NON-FOOD/FOOD CONTACT SURFACES CLEAN - Comments: OBSERVED ACCUMULATED FOOD DEBRIS INSIDE 2-DOOR REACH IN FOOD COOLER BY COOKING EQUIPMENT. MUST CLEAN INTERIOR OF SAID COOLER AND MAINTAIN. | 51. PLUMBING INSTALLED; PROPER BACKFLOW DEVICES - Comments: 3-COMPARTMENT SINK MISSING ONE STOPPER. INSTRUCTED MANAGER MUST PROVIDE. | 55. PHYSICAL FACILITIES INSTALLED, MAINTAINED & CLEAN - Comments: OBSERVED ACCUMULATED FOOD DEBRIS/DIRT BUILD UP ON FLOOR UNDER WOK. MUST CLEAN AND MAINTAIN FLOOR. | 58. ALLERGEN TRAINING AS REQUIRED - Comments: OBSERVED ONE FOOD MANAGER WITHOUT FOOD ALLERGEN TRAINING CERTIFICATE. INSTRUCTED ALL CITY OF CHICAGO CERTIFIED FOOD MANAGERS MUST HAVE FOOD ALLERGEN TRAINING CERTIFICATES ON PREMISES.',\n",
       "  '41.91753133',\n",
       "  '-87.70461979',\n",
       "  '(-87.70461978939348, 41.91753133022203)'],\n",
       " ['2522705',\n",
       "  'SAUGANASH GRILL',\n",
       "  'SAUGANASH GRILL',\n",
       "  '2749532',\n",
       "  'Restaurant',\n",
       "  'Risk 1 (High)',\n",
       "  '6005 N SAUGANASH AVE ',\n",
       "  'CHICAGO',\n",
       "  'IL',\n",
       "  '60646',\n",
       "  '07/14/2021',\n",
       "  'Canvass',\n",
       "  'Pass',\n",
       "  '',\n",
       "  '41.99026634',\n",
       "  '-87.73299734',\n",
       "  '(-87.73299734383897, 41.990266341555525)'],\n",
       " ['2522699',\n",
       "  'MARISCOS EL PUERTO',\n",
       "  'MARISCOS EL PUERTO',\n",
       "  '2231999',\n",
       "  'Restaurant',\n",
       "  'Risk 1 (High)',\n",
       "  '5004-5006 S ARCHER AVE ',\n",
       "  'CHICAGO',\n",
       "  'IL',\n",
       "  '60632',\n",
       "  '07/14/2021',\n",
       "  'Canvass Re-Inspection',\n",
       "  'Pass',\n",
       "  '',\n",
       "  '41.80220192',\n",
       "  '-87.723845',\n",
       "  '(-87.72384500262709, 41.802201915317575)']]"
      ]
     },
     "execution_count": 6,
     "metadata": {},
     "output_type": "execute_result"
    }
   ],
   "source": [
    "inspections.take(10)"
   ]
  },
  {
   "cell_type": "code",
   "execution_count": 7,
   "metadata": {},
   "outputs": [],
   "source": [
    "schema = StructType([StructField(\"Inspection ID\", IntegerType(), False), \n",
    "                     StructField(\"DBA Name\", StringType(), False), \n",
    "                     StructField(\"Results\", StringType(), False), \n",
    "                     StructField(\"Violations\", StringType(), True)])\n",
    "\n",
    "df = spark.createDataFrame(inspections.map(lambda l: (int(l[0]), l[1], l[12], l[13])) , schema)\n",
    "df.registerTempTable('CountResults')\n"
   ]
  },
  {
   "cell_type": "code",
   "execution_count": 8,
   "metadata": {
    "collapsed": false,
    "jupyter": {
     "outputs_hidden": false
    }
   },
   "outputs": [
    {
     "name": "stdout",
     "output_type": "stream",
     "text": [
      "+-------------+--------------------+---------+----------+\n",
      "|Inspection ID|            DBA Name|  Results|Violations|\n",
      "+-------------+--------------------+---------+----------+\n",
      "|      2522790| BALMORAL HOME, INC.|     Pass|          |\n",
      "|      2522786|SHARKS FISH & CHI...| No Entry|          |\n",
      "|      2522793|Tom and Jerrys Gy...|Not Ready|          |\n",
      "|      2522764|TINY GIANTS EARLY...|     Pass|          |\n",
      "|      2522736|         CJ MINIMART|     Pass|          |\n",
      "+-------------+--------------------+---------+----------+\n",
      "only showing top 5 rows\n",
      "\n"
     ]
    }
   ],
   "source": [
    "df.show(5)"
   ]
  },
  {
   "cell_type": "code",
   "execution_count": 9,
   "metadata": {
    "collapsed": false,
    "jupyter": {
     "outputs_hidden": false
    }
   },
   "outputs": [
    {
     "name": "stdout",
     "output_type": "stream",
     "text": [
      "passing = 116028\n",
      "failing = 42976\n"
     ]
    }
   ],
   "source": [
    "print(\"passing = %d\"%df[df.Results == 'Pass'].count())\n",
    "print(\"failing = %d\"%df[df.Results == 'Fail'].count())"
   ]
  },
  {
   "cell_type": "code",
   "execution_count": 10,
   "metadata": {
    "collapsed": false,
    "jupyter": {
     "outputs_hidden": false
    }
   },
   "outputs": [
    {
     "data": {
      "text/plain": [
       "222863"
      ]
     },
     "execution_count": 10,
     "metadata": {},
     "output_type": "execute_result"
    }
   ],
   "source": [
    "df.count()"
   ]
  },
  {
   "cell_type": "code",
   "execution_count": null,
   "metadata": {
    "collapsed": true,
    "jupyter": {
     "outputs_hidden": true
    }
   },
   "outputs": [],
   "source": []
  },
  {
   "cell_type": "code",
   "execution_count": null,
   "metadata": {
    "collapsed": false,
    "jupyter": {
     "outputs_hidden": false
    }
   },
   "outputs": [],
   "source": []
  },
  {
   "cell_type": "code",
   "execution_count": 11,
   "metadata": {
    "collapsed": false,
    "jupyter": {
     "outputs_hidden": false
    }
   },
   "outputs": [
    {
     "name": "stdout",
     "output_type": "stream",
     "text": [
      "+--------------------+\n",
      "|             Results|\n",
      "+--------------------+\n",
      "|           Not Ready|\n",
      "|                Fail|\n",
      "|            No Entry|\n",
      "|Business Not Located|\n",
      "|  Pass w/ Conditions|\n",
      "|     Out of Business|\n",
      "|                Pass|\n",
      "+--------------------+\n",
      "\n"
     ]
    }
   ],
   "source": [
    "df.select('Results').distinct().show()"
   ]
  },
  {
   "cell_type": "code",
   "execution_count": 12,
   "metadata": {
    "collapsed": false,
    "jupyter": {
     "outputs_hidden": false
    }
   },
   "outputs": [],
   "source": [
    "#%%sql -o count_results_df\n",
    "count_results_df = spark.sql(\"SELECT Results, COUNT(Results) AS cnt FROM \\\n",
    "       CountResults GROUP BY Results\").toPandas()"
   ]
  },
  {
   "cell_type": "code",
   "execution_count": 13,
   "metadata": {
    "collapsed": false,
    "jupyter": {
     "outputs_hidden": false
    }
   },
   "outputs": [
    {
     "data": {
      "text/html": [
       "<div>\n",
       "<style scoped>\n",
       "    .dataframe tbody tr th:only-of-type {\n",
       "        vertical-align: middle;\n",
       "    }\n",
       "\n",
       "    .dataframe tbody tr th {\n",
       "        vertical-align: top;\n",
       "    }\n",
       "\n",
       "    .dataframe thead th {\n",
       "        text-align: right;\n",
       "    }\n",
       "</style>\n",
       "<table border=\"1\" class=\"dataframe\">\n",
       "  <thead>\n",
       "    <tr style=\"text-align: right;\">\n",
       "      <th></th>\n",
       "      <th>Results</th>\n",
       "      <th>cnt</th>\n",
       "    </tr>\n",
       "  </thead>\n",
       "  <tbody>\n",
       "    <tr>\n",
       "      <th>0</th>\n",
       "      <td>Not Ready</td>\n",
       "      <td>2450</td>\n",
       "    </tr>\n",
       "    <tr>\n",
       "      <th>1</th>\n",
       "      <td>Fail</td>\n",
       "      <td>42976</td>\n",
       "    </tr>\n",
       "    <tr>\n",
       "      <th>2</th>\n",
       "      <td>No Entry</td>\n",
       "      <td>7893</td>\n",
       "    </tr>\n",
       "    <tr>\n",
       "      <th>3</th>\n",
       "      <td>Business Not Located</td>\n",
       "      <td>72</td>\n",
       "    </tr>\n",
       "    <tr>\n",
       "      <th>4</th>\n",
       "      <td>Pass w/ Conditions</td>\n",
       "      <td>34217</td>\n",
       "    </tr>\n",
       "    <tr>\n",
       "      <th>5</th>\n",
       "      <td>Out of Business</td>\n",
       "      <td>19227</td>\n",
       "    </tr>\n",
       "    <tr>\n",
       "      <th>6</th>\n",
       "      <td>Pass</td>\n",
       "      <td>116028</td>\n",
       "    </tr>\n",
       "  </tbody>\n",
       "</table>\n",
       "</div>"
      ],
      "text/plain": [
       "                Results     cnt\n",
       "0             Not Ready    2450\n",
       "1                  Fail   42976\n",
       "2              No Entry    7893\n",
       "3  Business Not Located      72\n",
       "4    Pass w/ Conditions   34217\n",
       "5       Out of Business   19227\n",
       "6                  Pass  116028"
      ]
     },
     "execution_count": 13,
     "metadata": {},
     "output_type": "execute_result"
    }
   ],
   "source": [
    "count_results_df"
   ]
  },
  {
   "cell_type": "code",
   "execution_count": 14,
   "metadata": {
    "collapsed": false,
    "jupyter": {
     "outputs_hidden": false
    }
   },
   "outputs": [
    {
     "data": {
      "text/plain": [
       "(-1.109754187908201,\n",
       " 1.1004644851384857,\n",
       " -1.1075170478605785,\n",
       " 1.1091935276061795)"
      ]
     },
     "execution_count": 14,
     "metadata": {},
     "output_type": "execute_result"
    },
    {
     "data": {
      "image/png": "[encoded data removed]",
      "text/plain": [
       "<Figure size 432x288 with 1 Axes>"
      ]
     },
     "metadata": {},
     "output_type": "display_data"
    }
   ],
   "source": [
    "%matplotlib inline\n",
    "import matplotlib.pyplot as plt\n",
    "\n",
    "\n",
    "labels = count_results_df['Results']\n",
    "sizes = count_results_df['cnt']\n",
    "colors = ['turquoise', 'seagreen', 'mediumslateblue', 'palegreen', 'coral']\n",
    "plt.pie(sizes, labels=labels, autopct='%1.1f%%', colors=colors)\n",
    "plt.axis('equal')"
   ]
  },
  {
   "cell_type": "code",
   "execution_count": 15,
   "metadata": {},
   "outputs": [],
   "source": [
    "def labelForResults(s):\n",
    "    if s == 'Fail':\n",
    "        return 0.0\n",
    "    elif s == 'Pass w/ Conditions' or s == 'Pass':\n",
    "        return 1.0\n",
    "    else:\n",
    "        return -1.0\n",
    "label = UserDefinedFunction(labelForResults, DoubleType())\n",
    "labeledData = df.select(label(df.Results).alias('label'), df.Violations).where('label >= 0')"
   ]
  },
  {
   "cell_type": "code",
   "execution_count": 16,
   "metadata": {
    "collapsed": false,
    "jupyter": {
     "outputs_hidden": false
    }
   },
   "outputs": [
    {
     "data": {
      "text/plain": [
       "[Row(label=1.0, Violations='')]"
      ]
     },
     "execution_count": 16,
     "metadata": {},
     "output_type": "execute_result"
    }
   ],
   "source": [
    "labeledData.take(1)"
   ]
  },
  {
   "cell_type": "code",
   "execution_count": null,
   "metadata": {
    "collapsed": true,
    "jupyter": {
     "outputs_hidden": true
    }
   },
   "outputs": [],
   "source": []
  },
  {
   "cell_type": "code",
   "execution_count": 17,
   "metadata": {
    "collapsed": false,
    "jupyter": {
     "outputs_hidden": false
    }
   },
   "outputs": [
    {
     "data": {
      "text/plain": [
       "PipelineModel_753d65fcb40d"
      ]
     },
     "execution_count": 17,
     "metadata": {},
     "output_type": "execute_result"
    }
   ],
   "source": [
    "tokenizer = Tokenizer(inputCol=\"Violations\", outputCol=\"words\")\n",
    "#hashingTF = HashingTF(inputCol=tokenizer.getOutputCol(), outputCol=\"features\")\n",
    "hashingTF = HashingTF(inputCol=\"words\", outputCol=\"features\")\n",
    "lr = LogisticRegression(maxIter=10, regParam=0.01)\n",
    "pipeline = Pipeline(stages=[tokenizer, hashingTF, lr])\n",
    "\n",
    "model = pipeline.fit(labeledData)\n",
    "model"
   ]
  },
  {
   "cell_type": "code",
   "execution_count": 18,
   "metadata": {
    "collapsed": false,
    "jupyter": {
     "outputs_hidden": false
    }
   },
   "outputs": [
    {
     "data": {
      "text/plain": [
       "262144"
      ]
     },
     "execution_count": 18,
     "metadata": {},
     "output_type": "execute_result"
    }
   ],
   "source": [
    "hashingTF.getNumFeatures()"
   ]
  },
  {
   "cell_type": "code",
   "execution_count": null,
   "metadata": {
    "collapsed": false,
    "jupyter": {
     "outputs_hidden": false
    }
   },
   "outputs": [],
   "source": []
  },
  {
   "cell_type": "code",
   "execution_count": 19,
   "metadata": {
    "collapsed": false,
    "jupyter": {
     "outputs_hidden": false
    }
   },
   "outputs": [
    {
     "data": {
      "text/plain": [
       "['Inspection ID',\n",
       " 'DBA Name',\n",
       " 'Results',\n",
       " 'Violations',\n",
       " 'words',\n",
       " 'features',\n",
       " 'rawPrediction',\n",
       " 'probability',\n",
       " 'prediction']"
      ]
     },
     "execution_count": 19,
     "metadata": {},
     "output_type": "execute_result"
    }
   ],
   "source": [
    "testData = spark.sparkContext.textFile('./Food_Inspections.csv')\\\n",
    "             .map(csvParse) \\\n",
    "             .map(lambda l: (int(l[0]), l[1], l[12], l[13]))\n",
    "testDf = spark.createDataFrame(testData, schema).where(\"Results = 'Fail' OR results = 'Pass' OR results = 'Pass w/ Conditions'\")\n",
    "predictionsDf = model.transform(testDf)\n",
    "predictionsDf.registerTempTable('Predictions')\n",
    "predictionsDf.columns"
   ]
  },
  {
   "cell_type": "code",
   "execution_count": 20,
   "metadata": {
    "collapsed": false,
    "jupyter": {
     "outputs_hidden": false
    }
   },
   "outputs": [
    {
     "data": {
      "text/plain": [
       "[Row(Inspection ID=2522790, DBA Name='BALMORAL HOME, INC.', Results='Pass', Violations='', words=[''], features=SparseVector(262144, {249180: 1.0}), rawPrediction=DenseVector([-1.672, 1.672]), probability=DenseVector([0.1582, 0.8418]), prediction=1.0)]"
      ]
     },
     "execution_count": 20,
     "metadata": {},
     "output_type": "execute_result"
    }
   ],
   "source": [
    "predictionsDf.take(1)"
   ]
  },
  {
   "cell_type": "code",
   "execution_count": 21,
   "metadata": {
    "collapsed": false,
    "jupyter": {
     "outputs_hidden": false
    }
   },
   "outputs": [
    {
     "name": "stdout",
     "output_type": "stream",
     "text": [
      "There were 193221 inspections and there were 187063 successful predictions\n",
      "This is a 96.81297581525817% success rate\n"
     ]
    }
   ],
   "source": [
    "numSuccesses = predictionsDf.where(\"\"\"(prediction = 0 AND Results = 'Fail') OR \n",
    "                                      (prediction = 1 AND (Results = 'Pass' OR \n",
    "                                                           Results = 'Pass w/ Conditions'))\"\"\").count()\n",
    "numInspections = predictionsDf.count()\n",
    "\n",
    "print(\"There were\", numInspections, \"inspections and there were\", numSuccesses, \"successful predictions\")\n",
    "print(\"This is a\", str((float(numSuccesses) / float(numInspections)) * 100) + \"%\", \"success rate\")\n"
   ]
  },
  {
   "cell_type": "code",
   "execution_count": 22,
   "metadata": {},
   "outputs": [],
   "source": [
    "from pyspark.sql.types import *\n",
    "from IPython.core.magic import register_line_cell_magic"
   ]
  },
  {
   "cell_type": "code",
   "execution_count": 23,
   "metadata": {},
   "outputs": [],
   "source": [
    "# Configuration parameters\n",
    "max_show_lines = 50         # Limit on the number of lines to show with %sql_show and %sql_display\n",
    "detailed_explain = True    "
   ]
  },
  {
   "cell_type": "code",
   "execution_count": 24,
   "metadata": {},
   "outputs": [],
   "source": [
    "@register_line_cell_magic\n",
    "def sql(line, cell=None):\n",
    "    \"Return a Spark DataFrame for lazy evaluation of the sql. Use: %sql or %%sql\"\n",
    "    val = cell if cell is not None else line \n",
    "    print(val)\n",
    "    return sqlContext.sql(val)\n",
    "\n",
    "@register_line_cell_magic\n",
    "def sql_show(line, cell=None):\n",
    "    \"Execute sql and show the first max_show_lines lines. Use: %sql_show or %%sql_show\"\n",
    "    val = cell if cell is not None else line \n",
    "    return sqlContext.sql(val).show(max_show_lines) \n",
    "\n",
    "@register_line_cell_magic\n",
    "def sql_display(line, cell=None):\n",
    "    \"\"\"Execute sql and convert results to Pandas DataFrame for pretty display or further processing.\n",
    "    Use: %sql_display or %%sql_display\"\"\"\n",
    "    val = cell if cell is not None else line \n",
    "    return sqlContext.sql(val).limit(max_show_lines).toPandas() \n"
   ]
  },
  {
   "cell_type": "code",
   "execution_count": 25,
   "metadata": {
    "collapsed": false,
    "jupyter": {
     "outputs_hidden": false
    }
   },
   "outputs": [],
   "source": [
    "#%%sql -q -o true_positive\n",
    "#SELECT count(*) AS cnt FROM Predictions WHERE prediction = 0 AND results = 'Fail'\n",
    "true_negative = spark.sql(\"SELECT count(*) AS cnt FROM Predictions WHERE \\\n",
    "        (prediction = 0 AND Results = 'Fail')\").toPandas()"
   ]
  },
  {
   "cell_type": "code",
   "execution_count": 26,
   "metadata": {
    "collapsed": false,
    "jupyter": {
     "outputs_hidden": false
    }
   },
   "outputs": [],
   "source": [
    "#%%sql -q -o false_positive\n",
    "false_negative = spark.sql(\"SELECT count(*) AS cnt FROM Predictions \\\n",
    "WHERE prediction = 0 AND (results = 'Pass' OR Results = 'Pass w/ Conditions')\").toPandas()"
   ]
  },
  {
   "cell_type": "code",
   "execution_count": 27,
   "metadata": {
    "collapsed": false,
    "jupyter": {
     "outputs_hidden": false
    }
   },
   "outputs": [],
   "source": [
    "#%%sql -q -o true_negative\n",
    "false_positive = spark.sql(\"SELECT count(*) AS cnt FROM Predictions WHERE \\\n",
    "       prediction = 1 AND Results = 'Fail' \").toPandas()"
   ]
  },
  {
   "cell_type": "code",
   "execution_count": 28,
   "metadata": {
    "collapsed": false,
    "jupyter": {
     "outputs_hidden": false
    }
   },
   "outputs": [],
   "source": [
    "#%%sql -q -o false_negative\n",
    "true_positive = spark.sql(\"SELECT count(*) AS cnt FROM Predictions WHERE \\\n",
    "      prediction = 1 AND (results = 'Pass' OR Results = 'Pass w/ Conditions')\").toPandas()"
   ]
  },
  {
   "cell_type": "code",
   "execution_count": 29,
   "metadata": {
    "collapsed": false,
    "jupyter": {
     "outputs_hidden": false
    }
   },
   "outputs": [
    {
     "data": {
      "text/plain": [
       "0    917\n",
       "Name: cnt, dtype: int64"
      ]
     },
     "execution_count": 29,
     "metadata": {},
     "output_type": "execute_result"
    }
   ],
   "source": [
    "false_negative['cnt']"
   ]
  },
  {
   "cell_type": "code",
   "execution_count": 30,
   "metadata": {
    "collapsed": false,
    "jupyter": {
     "outputs_hidden": false
    }
   },
   "outputs": [
    {
     "data": {
      "text/plain": [
       "(-1.105362813655711,\n",
       " 1.100255372429211,\n",
       " -1.1046273629551455,\n",
       " 1.1043914553396783)"
      ]
     },
     "execution_count": 30,
     "metadata": {},
     "output_type": "execute_result"
    },
    {
     "data": {
      "image/png": "[encoded data removed]",
      "text/plain": [
       "<Figure size 432x288 with 1 Axes>"
      ]
     },
     "metadata": {},
     "output_type": "display_data"
    }
   ],
   "source": [
    "%matplotlib inline\n",
    "import matplotlib.pyplot as plt\n",
    "\n",
    "labels = ['True positive', 'False positive', 'True negative', 'False negative']\n",
    "sizes = [true_positive['cnt'][0], false_positive['cnt'][0], true_negative['cnt'][0], false_negative['cnt'][0]]\n",
    "colors = ['turquoise', 'seagreen', 'mediumslateblue', 'palegreen', 'coral']\n",
    "plt.pie(sizes, labels=labels, autopct='%10.1f%%', colors=colors)\n",
    "plt.axis('equal')"
   ]
  },
  {
   "cell_type": "markdown",
   "metadata": {},
   "source": [
    "Precision and recall are then defined as:\n",
    "\n",
    "$$Precision=\\frac {tp}{tp+fp}$$\n",
    "\n",
    "\n",
    "$$ Recall = \\frac {tp}{tp+fn} $$\n",
    "\n",
    "\n",
    "Precision is the probability that a (randomly selected) positive prediction is correct.\n",
    "\n",
    "Recall is the probability that a (randomly selected) resturant with a passing grade is predicted to be passing.\n"
   ]
  },
  {
   "cell_type": "code",
   "execution_count": 31,
   "metadata": {
    "collapsed": false,
    "jupyter": {
     "outputs_hidden": false
    }
   },
   "outputs": [
    {
     "name": "stdout",
     "output_type": "stream",
     "text": [
      "so precision = 0.966093\n"
     ]
    }
   ],
   "source": [
    "print('so precision = %f'% \\\n",
    "      (float(true_positive['cnt'])/(float(true_positive['cnt'])+float(false_positive['cnt']))))"
   ]
  },
  {
   "cell_type": "code",
   "execution_count": 32,
   "metadata": {
    "collapsed": false,
    "jupyter": {
     "outputs_hidden": false
    }
   },
   "outputs": [
    {
     "name": "stdout",
     "output_type": "stream",
     "text": [
      "and recall = 0.993897\n"
     ]
    }
   ],
   "source": [
    "print('and recall = %f'% \\\n",
    "      (float(true_positive['cnt'])/(float(true_positive['cnt'])+float(false_negative['cnt']))))"
   ]
  },
  {
   "cell_type": "markdown",
   "metadata": {},
   "source": [
    "If we do this another way, we can ask how accurate are we in finding the failing resturants? This is a bit harder because there are far fewer of them.   In this case we are interested in true-negatives, so \n",
    "\n",
    "Precision is the probability that a (randomly selected) negative prediction is correct.\n",
    "\n",
    "Recall is the probability that a (randomly selected) resturant with a failing grade is predicted to be failing.\n",
    "\n",
    "\n",
    "$$Precision=\\frac {tn}{tn+fn}$$\n",
    "\n",
    "\n",
    "$$ Recall = \\frac {tn}{tn+fp} $$\n"
   ]
  },
  {
   "cell_type": "code",
   "execution_count": 33,
   "metadata": {
    "collapsed": false,
    "jupyter": {
     "outputs_hidden": false
    }
   },
   "outputs": [
    {
     "name": "stdout",
     "output_type": "stream",
     "text": [
      "so the precision of failure prediction = 0.976275\n"
     ]
    }
   ],
   "source": [
    "print('so the precision of failure prediction = %f'% \\\n",
    "      (float(true_negative['cnt'])/(float(true_negative['cnt'])+float(false_negative['cnt']))))"
   ]
  },
  {
   "cell_type": "code",
   "execution_count": 34,
   "metadata": {
    "collapsed": false,
    "jupyter": {
     "outputs_hidden": false
    }
   },
   "outputs": [
    {
     "name": "stdout",
     "output_type": "stream",
     "text": [
      "and recall is = 0.878048\n"
     ]
    }
   ],
   "source": [
    "print('and recall is = %f'% \\\n",
    "      (float(true_negative['cnt'])/(float(true_negative['cnt'])+float(false_positive['cnt']))))"
   ]
  },
  {
   "cell_type": "code",
   "execution_count": null,
   "metadata": {
    "collapsed": true,
    "jupyter": {
     "outputs_hidden": true
    }
   },
   "outputs": [],
   "source": []
  }
 ],
 "metadata": {
  "anaconda-cloud": {},
  "kernelspec": {
   "display_name": "Python 3.7 - Spark (local)",
   "language": "python",
   "name": "spark-3-python"
  },
  "language_info": {
   "codemirror_mode": {
    "name": "ipython",
    "version": 3
   },
   "file_extension": ".py",
   "mimetype": "text/x-python",
   "name": "python",
   "nbconvert_exporter": "python",
   "pygments_lexer": "ipython3",
   "version": "3.8.10"
  }
 },
 "nbformat": 4,
 "nbformat_minor": 4
}
