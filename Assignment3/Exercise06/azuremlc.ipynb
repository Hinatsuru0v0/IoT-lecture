{
 "cells": [
  {
   "cell_type": "markdown",
   "metadata": {},
   "source": [
    "# Azure ML service sample.\n",
    "\n",
    "This notebook illustrates invoking the webservice for the three way classifier with the Arvix data.   The three way example  uses three classifiers: a multiclass neural net, a multiclass logistic regression and a random forest classifier.   The three way classifier uses a popularity vote system. If any two of the classifiers agree that is the main reply of the three way.   the third case is always put forward as a second choice.  \n",
    "The python code for the three way python module is here\n",
    "<pre>\n",
    "import pandas as pd\n",
    "labels = { 1: \"'bio'\", 2: \"'compsci'\", 3: \"'finance'\", 4: \"'math'\"}\n",
    "   #The entry point function can contain up to two input arguments:\n",
    "   #Param<dataframe1>: a pandas.DataFrame\n",
    "   #Param<dataframe2>: a pandas.DataFrame\n",
    "def azureml_main(dataframe1 = None, dataframe2 = None):\n",
    "\n",
    "    tclass = dataframe1[\"Col1\"]\n",
    "    scored1 = dataframe1[\"Scored Labels\"]\n",
    "    scored2 = dataframe2[\"Scored Labels\"]\n",
    "    scored3 = dataframe2[\"Scored Labels (2)\"]\n",
    "    scored = []\n",
    "    second = []     \n",
    "    lclass = []\n",
    "    for i in range(0, len(tclass)):\n",
    "        lclass.extend([tclass[i]])\n",
    "        if scored2[i] == scored3[i]:\n",
    "            scored.extend([labels[scored2[i]]])\n",
    "            second.extend([labels[scored1[i]]])\n",
    "        elif scored2[i] == scored1[i]:\n",
    "            scored.extend([labels[scored1[i]]])\n",
    "            second.extend([labels[scored3[i]]])\n",
    "        elif scored1[i] == scored3[i]:\n",
    "            scored.extend([labels[scored1[i]]])\n",
    "            second.extend([labels[scored2[i]]])\n",
    "        else:\n",
    "            scored.extend([labels[scored1[i]]])\n",
    "            second.extend([labels[scored3[i]]])\n",
    "           \n",
    "    data = {'Col1': lclass, 'Scored Labels': scored, 'second': second}\n",
    "    df = pd.DataFrame(data, columns=['Col1', 'Scored Labels', 'second'])\n",
    "    return df\n",
    "</pre>\n",
    "\n",
    "The code below assumes that the test file is store in Azure blob store as a csv file.\n",
    "It uses the three way classifier and the neural net classifier and the logistic regression classifier to compare the confusion matrix of each."
   ]
  },
  {
   "cell_type": "code",
   "execution_count": 34,
   "metadata": {
    "collapsed": true
   },
   "outputs": [],
   "source": [
    "import sys\n",
    "import azure\n",
    "import socket\n",
    "import csv\n",
    "import urllib2\n",
    "import json\n",
    "import pandas as pd\n",
    "import numpy as np\n",
    "import urllib\n",
    "import json\n",
    "import pickle\n",
    "import unicodedata\n"
   ]
  },
  {
   "cell_type": "code",
   "execution_count": null,
   "metadata": {
    "collapsed": true
   },
   "outputs": [],
   "source": [
    "The following establishes the urls and keys for each of the three classifiers"
   ]
  },
  {
   "cell_type": "code",
   "execution_count": 76,
   "metadata": {
    "collapsed": true
   },
   "outputs": [],
   "source": [
    "url = []\n",
    "api_key = []\n",
    "# the first is the neural net versionn\n",
    "url.append('https://ussouthcentral.services.azureml.net/workspaces/38d1439e6956413e9fe2950b6530c117/services/281bbba94a9b47608351313de7c34fac/execute?api-version=2.0&details=true ')\n",
    "api_key.append('5dtOV9rJgoI8LtnX4N7vNMfhW4vdSPHcpCq1IUNQyTPTSwzIHQ4NADF1KkKvI/Q4mJSVFQh7JQcVyVxk7yuG/Q==')\n",
    "# the second is the logistic regression version\n",
    "url.append('https://ussouthcentral.services.azureml.net/workspaces/38d1439e6956413e9fe2950b6530c117/services/08e77a94e7e0444687286a98f889be3d/execute?api-version=2.0&details=true ')\n",
    "api_key.append('RkHxsJXpnBFv3CVeL5B927VlKgUbQZBaHp8BbQ2QeMgPkCqUG+W9QY9RanTO3zMXnTywpQBX+db5+n6xxWkugA==')\n",
    "# this is the url and key for the threeway version\n",
    "url.append('https://ussouthcentral.services.azureml.net/workspaces/38d1439e6956413e9fe2950b6530c117/services/462fccc1e35e451e96d2678e66930654/execute?api-version=2.0&details=true ')\n",
    "api_key.append('e7iaNA+Pi9KdKZ70+Vv7JvZ81E3vKfqQShFuMf+a89GfGrixAHNq4HaHJZhpCY3TBujJmJh3hfKNtoYY3eKvnw==')\n"
   ]
  },
  {
   "cell_type": "code",
   "execution_count": 3,
   "metadata": {
    "collapsed": false
   },
   "outputs": [],
   "source": [
    "def sendrequest(datalist, url, api_key):\n",
    "    #datalist is a list [\"class\", \"document\", \"title\"]\n",
    "    data =  {\n",
    "    \"Inputs\": {\n",
    "\n",
    "            \"input1\":\n",
    "            {\n",
    "                \"ColumnNames\": [\"Col1\", \"Col2\", \"Col3\"],\n",
    "                \"Values\": [ datalist  ]\n",
    "            },        },\n",
    "        \"GlobalParameters\": { }\n",
    "    }\n",
    "\n",
    "\n",
    "    body = str.encode(json.dumps(data))\n",
    "\n",
    "    headers = {'Content-Type':'application/json', 'Authorization':('Bearer '+ api_key)}\n",
    "\n",
    "    req = urllib2.Request(url, body, headers) \n",
    "\n",
    "    try:\n",
    "        response = urllib2.urlopen(req)\n",
    "\n",
    "        # If you are using Python 3+, replace urllib2 with urllib.request in the above code:\n",
    "        # req = urllib.request.Request(url, body, headers) \n",
    "        # response = urllib.request.urlopen(req)\n",
    "\n",
    "        result = response.read()\n",
    "        #print(result) \n",
    "        y = json.loads(result)\n",
    "        return(y[\"Results\"][\"output1\"][\"value\"][\"Values\"] ) \n",
    "\n",
    "    except urllib2.HTTPError, error:\n",
    "        print(\"The request failed with status code: \" + str(error.code))\n",
    "\n",
    "        # Print the headers - they include the requert ID and the timestamp, which are useful for debugging the failure\n",
    "        print(error.info())\n",
    "\n",
    "        print(json.loads(error.read()))                 \n",
    "        \n",
    "    "
   ]
  },
  {
   "cell_type": "code",
   "execution_count": 4,
   "metadata": {
    "collapsed": true
   },
   "outputs": [],
   "source": [
    "#this function is used to send multiple requests to the web service with one invocation.\n",
    "def sendbulkrequest(datalist, url, api_key):\n",
    "    #datalist is a list [\"class\", \"document\", \"title\"]\n",
    "    data =  {\n",
    "        \"Inputs\": {\n",
    "\n",
    "                \"input1\":\n",
    "                {\n",
    "                    \"ColumnNames\": [\"Col1\", \"Col2\", \"Col3\"],\n",
    "                    \"Values\":  datalist  \n",
    "                },        },\n",
    "            \"GlobalParameters\": { }\n",
    "    }\n",
    "\n",
    "    body = str.encode(json.dumps(data))\n",
    "    headers = {'Content-Type':'application/json', 'Authorization':('Bearer '+ api_key)}\n",
    "    \n",
    "    req = urllib2.Request(url, body, headers) \n",
    "    \n",
    "    try:\n",
    "        response = urllib2.urlopen(req)\n",
    "\n",
    "        # If you are using Python 3+, replace urllib2 with urllib.request in the above code:\n",
    "        # req = urllib.request.Request(url, body, headers) \n",
    "        # response = urllib.request.urlopen(req)\n",
    "\n",
    "        result = response.read()\n",
    "        y = json.loads(result)\n",
    "        return(y[\"Results\"][\"output1\"][\"value\"][\"Values\"] ) \n",
    "    except urllib2.HTTPError, error:\n",
    "        print(\"The request failed with status code: \" + str(error.code))\n",
    "\n",
    "        # Print the headers - they include the requert ID and the timestamp, which are useful for debugging the failure\n",
    "        print(error.info())\n",
    "\n",
    "        return json.loads(error.read())            \n"
   ]
  },
  {
   "cell_type": "code",
   "execution_count": 38,
   "metadata": {
    "collapsed": false
   },
   "outputs": [],
   "source": [
    "def read_azure_blob(subj, base):\n",
    "    #base is the url for the azure blob store\n",
    "    docpath =base+ \"/\"+subj+\".csv\"\n",
    "    response = urllib2.urlopen(docpath)\n",
    "    data = csv.reader(response)\n",
    "    biglist =  []\n",
    "    for row in data:\n",
    "        biglist.append(row)\n",
    "    return biglist"
   ]
  },
  {
   "cell_type": "code",
   "execution_count": 42,
   "metadata": {
    "collapsed": false
   },
   "outputs": [],
   "source": [
    "#first read the test data file arxivnophy\n",
    "base = \"https://scimldata.blob.core.windows.net/arxiv\"\n",
    "nophytable = read_azure_blob('arxivnophy', base)"
   ]
  },
  {
   "cell_type": "markdown",
   "metadata": {},
   "source": [
    "next test it with the first entry in the table with the three way.   "
   ]
  },
  {
   "cell_type": "code",
   "execution_count": 49,
   "metadata": {
    "collapsed": false
   },
   "outputs": [
    {
     "name": "stdout",
     "output_type": "stream",
     "text": [
      "[[u\"'compsci'\", u\"'compsci'\", u\"'compsci'\"]]\n"
     ]
    }
   ],
   "source": [
    "x = sendrequest(nophytable[0], url[2], api_key[2])\n",
    "print x "
   ]
  },
  {
   "cell_type": "code",
   "execution_count": 15,
   "metadata": {
    "collapsed": false
   },
   "outputs": [
    {
     "data": {
      "text/plain": [
       "1"
      ]
     },
     "execution_count": 15,
     "metadata": {},
     "output_type": "execute_result"
    }
   ],
   "source": [
    "len(x)"
   ]
  },
  {
   "cell_type": "code",
   "execution_count": 84,
   "metadata": {
    "collapsed": false
   },
   "outputs": [],
   "source": [
    "multx = sendbulkrequest(nophytable, url[2], api_key[2])"
   ]
  },
  {
   "cell_type": "markdown",
   "metadata": {},
   "source": [
    "Let's see how well the three way does if we ask if either the first or second choice is correct."
   ]
  },
  {
   "cell_type": "code",
   "execution_count": 85,
   "metadata": {
    "collapsed": false
   },
   "outputs": [
    {
     "name": "stdout",
     "output_type": "stream",
     "text": [
      "{\"'bio'\": 316.0, \"'finance'\": 232.0, \"'compsci'\": 648.0, \"'math'\": 742.0}\n",
      "{\"'bio'\": 65.82278481012658, \"'finance'\": 60.3448275862069, \"'compsci'\": 72.37654320987654, \"'math'\": 88.27493261455525}\n"
     ]
    }
   ],
   "source": [
    "correct = {\"'compsci'\": 0, \"'finance'\": 0, \"'bio'\": 0, \"'math'\": 0}\n",
    "num = {\"'compsci'\": 0, \"'finance'\": 0, \"'bio'\": 0, \"'math'\": 0}\n",
    "for i in range(len(multx)):\n",
    "    x = multx[i]\n",
    "    key = x[0]\n",
    "    num[key] = num[key]+1.0\n",
    "    if (key==x[1]) or (key==x[2]):\n",
    "        correct[key] = correct[key] +1.0\n",
    "    #else:\n",
    "for key in correct:\n",
    "    correct[key] = 100.0*correct[key]/num[key]\n",
    "print num\n",
    "print correct"
   ]
  },
  {
   "cell_type": "code",
   "execution_count": 72,
   "metadata": {
    "collapsed": false
   },
   "outputs": [],
   "source": [
    "def make_confusion_table(multx):\n",
    "    tble = {\"'compsci'\":{\"'compsci'\": 0, \"'finance'\": 0, \"'bio'\": 0,  \"'math'\": 0}, \n",
    "            \"'finance'\":{\"'compsci'\": 0, \"'finance'\": 0, \"'bio'\": 0, \"'math'\": 0},\n",
    "            \"'bio'\":{\"'compsci'\": 0, \"'finance'\": 0, \"'bio'\": 0,  \"'math'\": 0},\n",
    "            \"'math'\":{\"'compsci'\": 0, \"'finance'\": 0, \"'bio'\": 0, \"'math'\": 0}}\n",
    "    predicted = []\n",
    "    tclass = []\n",
    "    for e in multx:\n",
    "        x = e[0]\n",
    "        tclass.extend([x])\n",
    "        sc = e[1]\n",
    "        predicted.extend([sc])\n",
    "    for i in range(0, len(tclass)):\n",
    "        if tclass[i] == 'none':\n",
    "            print \"found none\"\n",
    "        else:\n",
    "           tble[predicted[i]][tclass[i]] = tble[predicted[i]][tclass[i]] +1 \n",
    "    names = [\"'bio'\", \"'compsci'\", \"'finance'\", \"'math'\"]\n",
    "    for x in names:\n",
    "        total = 0\n",
    "        for y in names:\n",
    "            total = total + tble[y][x]\n",
    "        print \"total for \" +x +\"= \"+str(total)\n",
    "        for y in names:\n",
    "            tble[y][x] = 100.0*tble[y][x]/(1.0*total)\n",
    "    df = pd.DataFrame(tble, columns=[ \"'bio'\", \"'compsci'\", \"'finance'\", \"'math'\"])\n",
    "    return df"
   ]
  },
  {
   "cell_type": "code",
   "execution_count": 86,
   "metadata": {
    "collapsed": false
   },
   "outputs": [
    {
     "name": "stdout",
     "output_type": "stream",
     "text": [
      "total for 'bio'= 316\n",
      "total for 'compsci'= 648\n",
      "total for 'finance'= 232\n",
      "total for 'math'= 742\n"
     ]
    },
    {
     "data": {
      "text/html": [
       "<div>\n",
       "<table border=\"1\" class=\"dataframe\">\n",
       "  <thead>\n",
       "    <tr style=\"text-align: right;\">\n",
       "      <th></th>\n",
       "      <th>'bio'</th>\n",
       "      <th>'compsci'</th>\n",
       "      <th>'finance'</th>\n",
       "      <th>'math'</th>\n",
       "    </tr>\n",
       "  </thead>\n",
       "  <tbody>\n",
       "    <tr>\n",
       "      <th>'bio'</th>\n",
       "      <td>50.316456</td>\n",
       "      <td>20.886076</td>\n",
       "      <td>0.949367</td>\n",
       "      <td>27.848101</td>\n",
       "    </tr>\n",
       "    <tr>\n",
       "      <th>'compsci'</th>\n",
       "      <td>4.938272</td>\n",
       "      <td>62.654321</td>\n",
       "      <td>1.543210</td>\n",
       "      <td>30.864198</td>\n",
       "    </tr>\n",
       "    <tr>\n",
       "      <th>'finance'</th>\n",
       "      <td>5.603448</td>\n",
       "      <td>9.913793</td>\n",
       "      <td>47.844828</td>\n",
       "      <td>36.637931</td>\n",
       "    </tr>\n",
       "    <tr>\n",
       "      <th>'math'</th>\n",
       "      <td>3.908356</td>\n",
       "      <td>13.477089</td>\n",
       "      <td>2.291105</td>\n",
       "      <td>80.323450</td>\n",
       "    </tr>\n",
       "  </tbody>\n",
       "</table>\n",
       "</div>"
      ],
      "text/plain": [
       "               'bio'  'compsci'  'finance'     'math'\n",
       "'bio'      50.316456  20.886076   0.949367  27.848101\n",
       "'compsci'   4.938272  62.654321   1.543210  30.864198\n",
       "'finance'   5.603448   9.913793  47.844828  36.637931\n",
       "'math'      3.908356  13.477089   2.291105  80.323450"
      ]
     },
     "execution_count": 86,
     "metadata": {},
     "output_type": "execute_result"
    }
   ],
   "source": [
    "df = make_confusion_table(multx)\n",
    "df"
   ]
  },
  {
   "cell_type": "code",
   "execution_count": 74,
   "metadata": {
    "collapsed": false
   },
   "outputs": [],
   "source": [
    "#next do the confusion matrix for the neural net classifer\n",
    "multx2 = sendbulkrequest(nophytable, url[0], api_key[0])"
   ]
  },
  {
   "cell_type": "code",
   "execution_count": 75,
   "metadata": {
    "collapsed": false
   },
   "outputs": [
    {
     "name": "stdout",
     "output_type": "stream",
     "text": [
      "total for 'bio'= 316\n",
      "total for 'compsci'= 648\n",
      "total for 'finance'= 232\n",
      "total for 'math'= 742\n"
     ]
    },
    {
     "data": {
      "text/html": [
       "<div>\n",
       "<table border=\"1\" class=\"dataframe\">\n",
       "  <thead>\n",
       "    <tr style=\"text-align: right;\">\n",
       "      <th></th>\n",
       "      <th>'bio'</th>\n",
       "      <th>'compsci'</th>\n",
       "      <th>'finance'</th>\n",
       "      <th>'math'</th>\n",
       "    </tr>\n",
       "  </thead>\n",
       "  <tbody>\n",
       "    <tr>\n",
       "      <th>'bio'</th>\n",
       "      <td>51.265823</td>\n",
       "      <td>19.936709</td>\n",
       "      <td>4.746835</td>\n",
       "      <td>24.050633</td>\n",
       "    </tr>\n",
       "    <tr>\n",
       "      <th>'compsci'</th>\n",
       "      <td>10.493827</td>\n",
       "      <td>57.716049</td>\n",
       "      <td>4.320988</td>\n",
       "      <td>27.469136</td>\n",
       "    </tr>\n",
       "    <tr>\n",
       "      <th>'finance'</th>\n",
       "      <td>6.465517</td>\n",
       "      <td>17.241379</td>\n",
       "      <td>50.431034</td>\n",
       "      <td>25.862069</td>\n",
       "    </tr>\n",
       "    <tr>\n",
       "      <th>'math'</th>\n",
       "      <td>6.469003</td>\n",
       "      <td>16.037736</td>\n",
       "      <td>5.525606</td>\n",
       "      <td>71.967655</td>\n",
       "    </tr>\n",
       "  </tbody>\n",
       "</table>\n",
       "</div>"
      ],
      "text/plain": [
       "               'bio'  'compsci'  'finance'     'math'\n",
       "'bio'      51.265823  19.936709   4.746835  24.050633\n",
       "'compsci'  10.493827  57.716049   4.320988  27.469136\n",
       "'finance'   6.465517  17.241379  50.431034  25.862069\n",
       "'math'      6.469003  16.037736   5.525606  71.967655"
      ]
     },
     "execution_count": 75,
     "metadata": {},
     "output_type": "execute_result"
    }
   ],
   "source": [
    "df = make_confusion_table(multx2)\n",
    "df"
   ]
  },
  {
   "cell_type": "code",
   "execution_count": 80,
   "metadata": {
    "collapsed": false
   },
   "outputs": [],
   "source": [
    "# now for the logistic regression service\n",
    "multx3 = sendbulkrequest(nophytable, url[1], api_key[1])"
   ]
  },
  {
   "cell_type": "code",
   "execution_count": 81,
   "metadata": {
    "collapsed": false
   },
   "outputs": [
    {
     "name": "stdout",
     "output_type": "stream",
     "text": [
      "total for 'bio'= 316\n",
      "total for 'compsci'= 648\n",
      "total for 'finance'= 232\n",
      "total for 'math'= 742\n"
     ]
    },
    {
     "data": {
      "text/html": [
       "<div>\n",
       "<table border=\"1\" class=\"dataframe\">\n",
       "  <thead>\n",
       "    <tr style=\"text-align: right;\">\n",
       "      <th></th>\n",
       "      <th>'bio'</th>\n",
       "      <th>'compsci'</th>\n",
       "      <th>'finance'</th>\n",
       "      <th>'math'</th>\n",
       "    </tr>\n",
       "  </thead>\n",
       "  <tbody>\n",
       "    <tr>\n",
       "      <th>'bio'</th>\n",
       "      <td>54.113924</td>\n",
       "      <td>23.417722</td>\n",
       "      <td>0.316456</td>\n",
       "      <td>22.151899</td>\n",
       "    </tr>\n",
       "    <tr>\n",
       "      <th>'compsci'</th>\n",
       "      <td>6.172840</td>\n",
       "      <td>65.740741</td>\n",
       "      <td>1.234568</td>\n",
       "      <td>26.851852</td>\n",
       "    </tr>\n",
       "    <tr>\n",
       "      <th>'finance'</th>\n",
       "      <td>5.172414</td>\n",
       "      <td>9.913793</td>\n",
       "      <td>43.534483</td>\n",
       "      <td>41.379310</td>\n",
       "    </tr>\n",
       "    <tr>\n",
       "      <th>'math'</th>\n",
       "      <td>3.504043</td>\n",
       "      <td>14.555256</td>\n",
       "      <td>2.021563</td>\n",
       "      <td>79.919137</td>\n",
       "    </tr>\n",
       "  </tbody>\n",
       "</table>\n",
       "</div>"
      ],
      "text/plain": [
       "               'bio'  'compsci'  'finance'     'math'\n",
       "'bio'      54.113924  23.417722   0.316456  22.151899\n",
       "'compsci'   6.172840  65.740741   1.234568  26.851852\n",
       "'finance'   5.172414   9.913793  43.534483  41.379310\n",
       "'math'      3.504043  14.555256   2.021563  79.919137"
      ]
     },
     "execution_count": 81,
     "metadata": {},
     "output_type": "execute_result"
    }
   ],
   "source": [
    "df = make_confusion_table(multx3)\n",
    "df"
   ]
  },
  {
   "cell_type": "markdown",
   "metadata": {
    "collapsed": true
   },
   "source": [
    "as we can see, all three are rather poor.   the three way is only slightly better.   "
   ]
  },
  {
   "cell_type": "code",
   "execution_count": null,
   "metadata": {
    "collapsed": true
   },
   "outputs": [],
   "source": []
  }
 ],
 "metadata": {
  "kernelspec": {
   "display_name": "Python 2",
   "language": "python",
   "name": "python2"
  },
  "language_info": {
   "codemirror_mode": {
    "name": "ipython",
    "version": 2
   },
   "file_extension": ".py",
   "mimetype": "text/x-python",
   "name": "python",
   "nbconvert_exporter": "python",
   "pygments_lexer": "ipython2",
   "version": "2.7.11"
  }
 },
 "nbformat": 4,
 "nbformat_minor": 0
}
