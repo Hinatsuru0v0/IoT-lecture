{
 "cells": [
  {
   "cell_type": "markdown",
   "metadata": {},
   "source": [
    "## A very simple Tensorflow Logistic Regression example.\n",
    "\n",
    "we will build a logistic regression model of some  (fake) graduate school admissions decisions.  The data consists csv file of a GRE exam score in the range 0 to 800, a grade point average in the range 0 to 4.0 and the rank of the student's undergrad institution in the range 4 to 1 (top).   The Admission Decision in binary.  \n",
    "\n",
    "There are six columns in the data.  Ignore column 0.  the GRE, GPA and school rank are in columns 1 through 3.  Column 4 is an admission decision that is only based on the rank of the school: only students with a rank 1 school get in and others not.    Column 5 contains a more interesting (but still silly) admission model where you get in if your GRE score is 800 or your rank is 1.   in the example below we use the former model.  It is easy for the system to learn it perfectly.\n",
    "\n",
    "The csv file is called dat.csv and it is here https://1drv.ms/u/s!AkRG9Zk_IOUag5IX1xzlv7rP9T5FFg"
   ]
  },
  {
   "cell_type": "code",
   "execution_count": 1,
   "metadata": {
    "tags": []
   },
   "outputs": [
    {
     "name": "stdout",
     "output_type": "stream",
     "text": [
      "WARNING:tensorflow:From /anaconda/envs/azureml_py36_tensorflow/lib/python3.6/site-packages/tensorflow/python/compat/v2_compat.py:96: disable_resource_variables (from tensorflow.python.ops.variable_scope) is deprecated and will be removed in a future version.\n",
      "Instructions for updating:\n",
      "non-resource variables are not supported in the long term\n"
     ]
    }
   ],
   "source": [
    "import tensorflow.compat.v1 as tf\n",
    "tf.disable_v2_behavior()\n",
    "import numpy as np\n",
    "import csv"
   ]
  },
  {
   "cell_type": "code",
   "execution_count": 2,
   "metadata": {
    "tags": []
   },
   "outputs": [],
   "source": [
    "sess = tf.InteractiveSession()"
   ]
  },
  {
   "cell_type": "code",
   "execution_count": 3,
   "metadata": {
    "collapsed": false,
    "jupyter": {
     "outputs_hidden": false
    }
   },
   "outputs": [],
   "source": [
    "train_datas = []\n",
    "train_labels = []\n",
    "test_datas = []\n",
    "test_labels = []\n",
    "i = 0\n",
    "scale = np.array([[0.01, 1.0, 1.0]])\n",
    "with open('./dat.csv', 'r') as f:\n",
    "    reader = csv.reader(f)\n",
    "    for row in reader:\n",
    "        if i < 300:\n",
    "            train_datas.append([np.float32(x) for x in row[1:4]])\n",
    "            #print np.float(row[0])\n",
    "            train_labels.append([np.float32(row[4])])\n",
    "        else:\n",
    "            test_datas.append([np.float32(x) for x in row[1:4]])\n",
    "            test_labels.append([np.float(row[4])])\n",
    "        i +=1"
   ]
  },
  {
   "cell_type": "code",
   "execution_count": 4,
   "metadata": {
    "collapsed": false,
    "jupyter": {
     "outputs_hidden": false
    }
   },
   "outputs": [],
   "source": [
    "test_data  = np.array(test_datas, dtype=np.float32)\n",
    "test_label = np.array(test_labels, dtype=np.float32)\n",
    "train_data  = np.array(train_datas, dtype=np.float32)\n",
    "train_label = np.array(train_labels, dtype=np.float32)"
   ]
  },
  {
   "cell_type": "code",
   "execution_count": 5,
   "metadata": {
    "collapsed": false,
    "jupyter": {
     "outputs_hidden": false
    }
   },
   "outputs": [
    {
     "data": {
      "text/plain": [
       "array([[640.  ,   3.3 ,   2.  ],\n",
       "       [660.  ,   3.6 ,   3.  ],\n",
       "       [400.  ,   3.15,   2.  ],\n",
       "       [680.  ,   3.98,   2.  ],\n",
       "       [220.  ,   2.83,   3.  ],\n",
       "       [580.  ,   3.46,   4.  ],\n",
       "       [540.  ,   3.17,   1.  ],\n",
       "       [580.  ,   3.51,   2.  ],\n",
       "       [540.  ,   3.13,   2.  ],\n",
       "       [440.  ,   2.98,   3.  ],\n",
       "       [560.  ,   4.  ,   3.  ],\n",
       "       [660.  ,   3.67,   2.  ],\n",
       "       [660.  ,   3.77,   3.  ],\n",
       "       [520.  ,   3.65,   4.  ],\n",
       "       [540.  ,   3.46,   4.  ],\n",
       "       [300.  ,   2.84,   2.  ],\n",
       "       [340.  ,   3.  ,   2.  ],\n",
       "       [780.  ,   3.63,   4.  ],\n",
       "       [480.  ,   3.71,   4.  ],\n",
       "       [540.  ,   3.28,   1.  ]], dtype=float32)"
      ]
     },
     "execution_count": 5,
     "metadata": {},
     "output_type": "execute_result"
    }
   ],
   "source": [
    "test_data[0:20]"
   ]
  },
  {
   "cell_type": "code",
   "execution_count": 6,
   "metadata": {
    "collapsed": false,
    "jupyter": {
     "outputs_hidden": false
    }
   },
   "outputs": [
    {
     "data": {
      "text/plain": [
       "array([[0.],\n",
       "       [0.],\n",
       "       [1.],\n",
       "       [0.],\n",
       "       [0.],\n",
       "       [0.],\n",
       "       [1.],\n",
       "       [0.],\n",
       "       [0.],\n",
       "       [0.],\n",
       "       [0.],\n",
       "       [1.],\n",
       "       [1.],\n",
       "       [0.],\n",
       "       [1.],\n",
       "       [0.],\n",
       "       [0.],\n",
       "       [0.],\n",
       "       [0.],\n",
       "       [1.]], dtype=float32)"
      ]
     },
     "execution_count": 6,
     "metadata": {},
     "output_type": "execute_result"
    }
   ],
   "source": [
    "train_label[0:20]"
   ]
  },
  {
   "cell_type": "markdown",
   "metadata": {},
   "source": [
    "first define the placeholders and variables"
   ]
  },
  {
   "cell_type": "code",
   "execution_count": 7,
   "metadata": {
    "tags": []
   },
   "outputs": [],
   "source": [
    "x = tf.placeholder(tf.float32, shape=(None,3)) \n",
    "y = tf.placeholder(tf.float32, shape =(None,1)) \n",
    "\n",
    "# Set model weights\n",
    "W = tf.Variable(tf.zeros([3, 1]))\n",
    "b = tf.Variable(tf.zeros([1]))"
   ]
  },
  {
   "cell_type": "code",
   "execution_count": 8,
   "metadata": {
    "tags": []
   },
   "outputs": [],
   "source": [
    "training_epochs = 400000\n",
    "batch_size = 100\n",
    "display_step = 1000"
   ]
  },
  {
   "cell_type": "code",
   "execution_count": 9,
   "metadata": {
    "collapsed": false,
    "jupyter": {
     "outputs_hidden": false
    }
   },
   "outputs": [
    {
     "name": "stdout",
     "output_type": "stream",
     "text": [
      "WARNING:tensorflow:From /anaconda/envs/azureml_py36_tensorflow/lib/python3.6/site-packages/tensorflow/python/util/tf_should_use.py:247: initialize_all_variables (from tensorflow.python.ops.variables) is deprecated and will be removed after 2017-03-02.\n",
      "Instructions for updating:\n",
      "Use `tf.global_variables_initializer` instead.\n"
     ]
    }
   ],
   "source": [
    "pred = tf.sigmoid(tf.matmul(x, W) + b) # Softmax\n",
    "cost = tf.sqrt(tf.reduce_sum((y - pred)**2/batch_size))\n",
    "\n",
    "opt = tf.train.AdamOptimizer()\n",
    "optimizer = opt.minimize(cost)\n",
    "\n",
    "# Initializing the variables old version is initialize_all_variable.  New version\n",
    "# has global_variable_initializer.\n",
    "\n",
    "#init = tf.global_variables_initializer()\n",
    "init = tf.initialize_all_variables()"
   ]
  },
  {
   "cell_type": "code",
   "execution_count": 10,
   "metadata": {
    "tags": []
   },
   "outputs": [],
   "source": [
    "def get_batch2(batch_size, x, y):\n",
    "    indices = np.random.choice(299, batch_size)\n",
    "    return x[indices], y[indices]\n"
   ]
  },
  {
   "cell_type": "code",
   "execution_count": 11,
   "metadata": {
    "collapsed": false,
    "jupyter": {
     "outputs_hidden": false
    }
   },
   "outputs": [
    {
     "name": "stdout",
     "output_type": "stream",
     "text": [
      "Epoch: 1000 cost= 0.1851397007703781\n",
      "Epoch: 2000 cost= 0.08738325536251068\n",
      "Epoch: 3000 cost= 0.056119963526725776\n",
      "Epoch: 4000 cost= 0.03375603879491488\n",
      "Epoch: 5000 cost= 0.019565788408120472\n",
      "Epoch: 6000 cost= 0.017093981926639874\n",
      "Epoch: 7000 cost= 0.010614323119322458\n",
      "Epoch: 8000 cost= 0.007655809012552101\n",
      "Epoch: 9000 cost= 0.005002424819394946\n",
      "Epoch: 10000 cost= 0.0037763852936526137\n",
      "Epoch: 11000 cost= 0.0026627687426904836\n",
      "Epoch: 12000 cost= 0.0018262187174210944\n",
      "Epoch: 13000 cost= 0.0014685472706332803\n",
      "Epoch: 14000 cost= 0.0008127210312522948\n",
      "Epoch: 15000 cost= 0.0008656465506646782\n",
      "Epoch: 16000 cost= 0.0006426471518352628\n",
      "Epoch: 17000 cost= 0.0005034539984383931\n",
      "Epoch: 18000 cost= 0.0002726450863216693\n",
      "Epoch: 19000 cost= 0.0003341934158621977\n",
      "Epoch: 20000 cost= 0.00020781893787595132\n",
      "Epoch: 21000 cost= 0.00016104832320706916\n",
      "Epoch: 22000 cost= 0.00011748409936747825\n",
      "Epoch: 23000 cost= 0.00010950853902613744\n",
      "Epoch: 24000 cost= 9.307869549957104e-05\n",
      "Epoch: 25000 cost= 4.462715757351059e-05\n",
      "Epoch: 26000 cost= 6.371577425549428e-05\n",
      "Epoch: 27000 cost= 3.5469682795034416e-05\n",
      "Epoch: 28000 cost= 1.8422735593048856e-05\n",
      "Epoch: 29000 cost= 3.440771130650925e-05\n",
      "Epoch: 30000 cost= 1.2474012085779883e-05\n",
      "Epoch: 31000 cost= 7.241279490699526e-06\n",
      "Epoch: 32000 cost= 1.2933411198901013e-05\n",
      "Epoch: 33000 cost= 9.060564328441009e-06\n",
      "Epoch: 34000 cost= 6.261710344309297e-06\n",
      "Epoch: 35000 cost= 5.185763787570371e-06\n",
      "Epoch: 36000 cost= 5.193788562489014e-06\n",
      "Epoch: 37000 cost= 4.697364753762182e-06\n",
      "Epoch: 38000 cost= 1.5259346544856574e-06\n",
      "Epoch: 39000 cost= 2.2116239506431157e-06\n",
      "Epoch: 40000 cost= 1.9852507572674463e-06\n",
      "Epoch: 41000 cost= 1.331021356539471e-06\n",
      "Epoch: 42000 cost= 7.1312812603234e-07\n",
      "Epoch: 43000 cost= 5.547890774929934e-07\n",
      "Epoch: 44000 cost= 5.895286013431663e-07\n",
      "Epoch: 45000 cost= 6.093064731279204e-07\n",
      "Epoch: 46000 cost= 7.031878510588285e-07\n",
      "Epoch: 47000 cost= 3.631264557194906e-07\n",
      "Epoch: 48000 cost= 3.731728289343058e-07\n",
      "Epoch: 49000 cost= 2.476071045975914e-07\n",
      "Epoch: 50000 cost= 9.904051031147296e-08\n",
      "Epoch: 51000 cost= 9.728876193548786e-08\n",
      "Epoch: 52000 cost= 1.0764372386044366e-07\n",
      "Epoch: 53000 cost= 6.476150697191467e-08\n",
      "Epoch: 54000 cost= 7.611027127059818e-08\n",
      "Epoch: 55000 cost= 8.642725290997078e-08\n",
      "Epoch: 56000 cost= 3.283368480803498e-08\n",
      "Epoch: 57000 cost= 4.731537946630245e-08\n",
      "Epoch: 58000 cost= 6.726315030884204e-08\n",
      "Epoch: 59000 cost= 3.430406743850274e-08\n",
      "Epoch: 60000 cost= 3.257511475377821e-08\n",
      "Epoch: 61000 cost= 3.974385857456279e-08\n",
      "Epoch: 62000 cost= 1.2592496823060628e-08\n",
      "Epoch: 63000 cost= 2.481239598968917e-08\n",
      "Epoch: 64000 cost= 1.499014975111142e-08\n",
      "Epoch: 65000 cost= 1.143145222926023e-08\n",
      "Epoch: 66000 cost= 1.8376158964864924e-08\n",
      "Epoch: 67000 cost= 3.0360869374135287e-09\n",
      "Epoch: 68000 cost= 1.1184520272896256e-08\n",
      "Epoch: 69000 cost= 1.0639228091117541e-08\n",
      "Epoch: 70000 cost= 8.968001822632726e-09\n",
      "Epoch: 71000 cost= 6.4379165702159e-09\n",
      "Epoch: 72000 cost= 5.063213626144147e-09\n",
      "Epoch: 73000 cost= 2.466762645999173e-09\n",
      "Epoch: 74000 cost= 7.324163423897781e-09\n",
      "Epoch: 75000 cost= 1.853663407954305e-09\n",
      "Epoch: 76000 cost= 8.507208252665302e-09\n",
      "Epoch: 77000 cost= 6.3521408688593795e-09\n",
      "Epoch: 78000 cost= 4.428937429764209e-09\n",
      "Epoch: 79000 cost= 1.482291252704234e-09\n",
      "Epoch: 80000 cost= 1.867158612907834e-09\n",
      "Epoch: 81000 cost= 3.353703722138353e-09\n",
      "Epoch: 82000 cost= 1.0043136692653813e-09\n",
      "Epoch: 83000 cost= 7.592550662257245e-10\n",
      "Epoch: 84000 cost= 8.568059225074383e-10\n",
      "Epoch: 85000 cost= 9.624075055410706e-10\n",
      "Epoch: 86000 cost= 8.468815463717287e-10\n",
      "Epoch: 87000 cost= 1.084723024365649e-09\n",
      "Epoch: 88000 cost= 1.0811859185722028e-09\n",
      "Epoch: 89000 cost= 3.643847353481296e-10\n",
      "Epoch: 90000 cost= 5.308309070084505e-10\n",
      "Epoch: 91000 cost= 6.2783120600521745e-09\n",
      "Epoch: 92000 cost= 3.51895299936326e-10\n",
      "Epoch: 93000 cost= 4.742665982160332e-10\n",
      "Epoch: 94000 cost= 5.789512850610615e-10\n",
      "Epoch: 95000 cost= 3.032948753256548e-10\n",
      "Epoch: 96000 cost= 4.2519799440624934e-09\n",
      "Epoch: 97000 cost= 1.7975780863821456e-09\n",
      "Epoch: 98000 cost= 3.7366977105139177e-10\n",
      "Epoch: 99000 cost= 3.162235565993635e-10\n",
      "Epoch: 100000 cost= 7.364698018097471e-10\n",
      "Epoch: 101000 cost= 2.8947676200541395e-10\n",
      "Epoch: 102000 cost= 3.4916027939294974e-10\n",
      "Epoch: 103000 cost= 4.276316060517852e-10\n",
      "Epoch: 104000 cost= 6.048110239483447e-09\n",
      "Epoch: 105000 cost= 2.5264473846320357e-10\n",
      "Epoch: 106000 cost= 2.4109710986911875e-10\n",
      "Epoch: 107000 cost= 3.9492745647814093e-10\n",
      "Epoch: 108000 cost= 1.7000335167383085e-10\n",
      "Epoch: 109000 cost= 4.0346217107985655e-10\n",
      "Epoch: 110000 cost= 2.5895435795675326e-10\n",
      "Epoch: 111000 cost= 3.3480806553113734e-10\n",
      "Epoch: 112000 cost= 2.1766460855943137e-10\n",
      "Epoch: 113000 cost= 1.0116406416275463e-09\n",
      "Epoch: 114000 cost= 2.765925081564073e-10\n",
      "Epoch: 115000 cost= 2.0312026597727833e-10\n",
      "Epoch: 116000 cost= 7.991188151016775e-11\n",
      "Epoch: 117000 cost= 2.5237352023014614e-10\n",
      "Epoch: 118000 cost= 1.2285676873983556e-10\n",
      "Epoch: 119000 cost= 2.2819745630157465e-10\n",
      "Epoch: 120000 cost= 9.604672612795184e-11\n",
      "Epoch: 121000 cost= 9.332299516495723e-11\n",
      "Epoch: 122000 cost= 2.3473404238879186e-10\n",
      "Epoch: 123000 cost= 3.0862584247485597e-10\n",
      "Epoch: 124000 cost= 1.3496777306887253e-10\n",
      "Epoch: 125000 cost= 4.199285872733919e-10\n",
      "Epoch: 126000 cost= 2.2424404925539912e-10\n",
      "Epoch: 127000 cost= 2.2685051291141772e-10\n",
      "Epoch: 128000 cost= 1.2108274568175166e-09\n",
      "Epoch: 129000 cost= 4.046849616986166e-09\n",
      "Epoch: 130000 cost= 2.1833157041554568e-10\n",
      "Epoch: 131000 cost= 7.691181487986162e-10\n",
      "Epoch: 132000 cost= 7.717515399889112e-11\n",
      "Epoch: 133000 cost= 6.499602823543485e-11\n",
      "Epoch: 134000 cost= 4.096002934976065e-11\n",
      "Epoch: 135000 cost= 1.5636236287234578e-10\n",
      "Epoch: 136000 cost= 8.231370908958388e-11\n",
      "Epoch: 137000 cost= 2.728517458268816e-10\n",
      "Epoch: 138000 cost= 2.1111078625975682e-10\n",
      "Epoch: 139000 cost= 4.793842175073356e-10\n",
      "Epoch: 140000 cost= 7.470505232938981e-11\n",
      "Epoch: 141000 cost= 7.76002595515024e-10\n",
      "Epoch: 142000 cost= 7.980108492992393e-09\n",
      "Epoch: 143000 cost= 3.693509803559536e-10\n",
      "Epoch: 144000 cost= 3.828308272243082e-11\n",
      "Epoch: 145000 cost= 4.4270322361687306e-11\n",
      "Epoch: 146000 cost= 1.8356379842080866e-10\n",
      "Epoch: 147000 cost= 4.238564221825669e-10\n",
      "Epoch: 148000 cost= 1.4421084696773317e-10\n",
      "Epoch: 149000 cost= 1.0982851665157036e-09\n",
      "Epoch: 150000 cost= 4.653795589633821e-10\n",
      "Epoch: 151000 cost= 2.7272533768366947e-10\n",
      "Epoch: 152000 cost= 2.4140020538077067e-10\n",
      "Epoch: 153000 cost= 3.7756252753891794e-10\n",
      "Epoch: 154000 cost= 9.106325092137861e-10\n",
      "Epoch: 155000 cost= 2.851986887394039e-10\n",
      "Epoch: 156000 cost= 1.5399568310351755e-10\n",
      "Epoch: 157000 cost= 5.807517198623084e-11\n",
      "Epoch: 158000 cost= 1.5588591066132787e-10\n",
      "Epoch: 159000 cost= 2.1930726679109114e-10\n",
      "Epoch: 160000 cost= 4.043770966225917e-10\n",
      "Epoch: 161000 cost= 6.90705802737964e-11\n",
      "Epoch: 162000 cost= 9.167667782324547e-11\n",
      "Epoch: 163000 cost= 3.024850740255639e-11\n",
      "Epoch: 164000 cost= 9.29855752581273e-11\n",
      "Epoch: 165000 cost= 2.8432077005258183e-11\n",
      "Epoch: 166000 cost= 7.182604881232161e-10\n",
      "Epoch: 167000 cost= 5.5873036521510614e-11\n",
      "Epoch: 168000 cost= 5.176813723066036e-11\n",
      "Epoch: 169000 cost= 2.917451604374695e-10\n",
      "Epoch: 170000 cost= 1.1231891111629365e-10\n",
      "Epoch: 171000 cost= 4.468442398504931e-11\n",
      "Epoch: 172000 cost= 4.000066704951121e-09\n",
      "Epoch: 173000 cost= 5.629762355371011e-09\n",
      "Epoch: 174000 cost= 3.714417939892911e-10\n",
      "Epoch: 175000 cost= 3.7380292379947855e-10\n",
      "Epoch: 176000 cost= 6.738652575758823e-11\n",
      "Epoch: 177000 cost= 1.695091058258787e-10\n",
      "Epoch: 178000 cost= 3.207310690182356e-11\n",
      "Epoch: 179000 cost= 6.924699702537396e-11\n",
      "Epoch: 180000 cost= 1.026134513008407e-10\n",
      "Epoch: 181000 cost= 5.172139221539437e-11\n",
      "Epoch: 182000 cost= 4.7034295439877624e-11\n",
      "Epoch: 183000 cost= 2.449639912212772e-11\n",
      "Epoch: 184000 cost= 4.9203012613315465e-11\n",
      "Epoch: 185000 cost= 2.1135187350251883e-11\n",
      "Epoch: 186000 cost= 2.4521416725857094e-11\n",
      "Epoch: 187000 cost= 1.1792678870451803e-10\n",
      "Epoch: 188000 cost= 4.011964325571308e-10\n",
      "Epoch: 189000 cost= 5.965982754115492e-10\n",
      "Epoch: 190000 cost= 9.274576477184363e-11\n",
      "Epoch: 191000 cost= 1.6458951331473534e-10\n",
      "Epoch: 192000 cost= 5.867547535805724e-11\n",
      "Epoch: 193000 cost= 3.457149982954988e-10\n",
      "Epoch: 194000 cost= 1.1004313201408895e-10\n",
      "Epoch: 195000 cost= 4.466790132218179e-11\n",
      "Epoch: 196000 cost= 3.982340845397799e-09\n",
      "Epoch: 197000 cost= 1.8117238959058923e-10\n",
      "Epoch: 198000 cost= 3.632044607200975e-11\n",
      "Epoch: 199000 cost= 3.982349238568217e-09\n",
      "Epoch: 200000 cost= 3.3590322653006176e-11\n",
      "Epoch: 201000 cost= 4.6064997187104473e-10\n",
      "Epoch: 202000 cost= 1.4524809318257797e-09\n",
      "Epoch: 203000 cost= 3.804870215192343e-10\n",
      "Epoch: 204000 cost= 1.441680166451113e-11\n",
      "Epoch: 205000 cost= 1.991156631936386e-11\n",
      "Epoch: 206000 cost= 2.4439700841797737e-11\n",
      "Epoch: 207000 cost= 2.0460544138585966e-11\n",
      "Epoch: 208000 cost= 3.206787150637306e-11\n",
      "Epoch: 209000 cost= 2.0444442435281948e-10\n",
      "Epoch: 210000 cost= 1.1345359142896547e-10\n",
      "Epoch: 211000 cost= 1.3267626349418765e-10\n",
      "Epoch: 212000 cost= 1.7470125115067367e-10\n",
      "Epoch: 213000 cost= 2.3471190269130915e-10\n",
      "Epoch: 214000 cost= 1.2046452666410652e-11\n",
      "Epoch: 215000 cost= 8.249866877603947e-11\n",
      "Epoch: 216000 cost= 1.400164833612975e-10\n",
      "Epoch: 217000 cost= 1.006621262039653e-11\n",
      "Epoch: 218000 cost= 5.452449834223809e-11\n",
      "Epoch: 219000 cost= 1.9825478064783297e-11\n",
      "Epoch: 220000 cost= 1.2323113738934206e-11\n",
      "Epoch: 221000 cost= 8.341667634415018e-12\n",
      "Epoch: 222000 cost= 2.854488000136879e-11\n",
      "Epoch: 223000 cost= 3.183387257503038e-10\n",
      "Epoch: 224000 cost= 3.974632313089958e-11\n",
      "Epoch: 225000 cost= 6.507887400271824e-11\n",
      "Epoch: 226000 cost= 1.0564934667852317e-09\n",
      "Epoch: 227000 cost= 2.0469180748531692e-11\n",
      "Epoch: 228000 cost= 2.136402582619823e-10\n",
      "Epoch: 229000 cost= 1.4731539483651506e-11\n",
      "Epoch: 230000 cost= 8.989739739654705e-11\n",
      "Epoch: 231000 cost= 5.913806203997989e-10\n",
      "Epoch: 232000 cost= 2.8050029313164693e-11\n",
      "Epoch: 233000 cost= 1.820907475728421e-10\n",
      "Epoch: 234000 cost= 1.611575687713677e-11\n",
      "Epoch: 235000 cost= 2.390612291458538e-10\n",
      "Epoch: 236000 cost= 1.3329219672453263e-11\n",
      "Epoch: 237000 cost= 7.321610910141867e-12\n",
      "Epoch: 238000 cost= 1.2963958379019758e-10\n",
      "Epoch: 239000 cost= 1.9985362323393652e-11\n",
      "Epoch: 240000 cost= 7.546093235231513e-12\n",
      "Epoch: 241000 cost= 1.0273848612130099e-11\n",
      "Epoch: 242000 cost= 2.432866090297988e-11\n",
      "Epoch: 243000 cost= 1.0357155237616935e-11\n",
      "Epoch: 244000 cost= 1.1088507427074271e-11\n",
      "Epoch: 245000 cost= 1.1192891376475092e-11\n",
      "Epoch: 246000 cost= 2.1183387798514218e-11\n",
      "Epoch: 247000 cost= 5.494485653493678e-11\n",
      "Epoch: 248000 cost= 1.8421653091849066e-11\n",
      "Epoch: 249000 cost= 2.8232338920390156e-11\n",
      "Epoch: 250000 cost= 8.899215276729027e-12\n",
      "Epoch: 251000 cost= 1.1959637851814236e-11\n",
      "Epoch: 252000 cost= 1.1589362802766345e-10\n",
      "Epoch: 253000 cost= 2.2325622831923887e-11\n",
      "Epoch: 254000 cost= 7.108558388914851e-12\n",
      "Epoch: 255000 cost= 3.2798182688272465e-10\n",
      "Epoch: 256000 cost= 1.2985429861019545e-11\n",
      "Epoch: 257000 cost= 8.568684303766894e-11\n",
      "Epoch: 258000 cost= 9.04362435633077e-12\n",
      "Epoch: 259000 cost= 2.245399872979892e-11\n",
      "Epoch: 260000 cost= 6.6581134413693875e-12\n",
      "Epoch: 261000 cost= 6.8065073253557405e-12\n",
      "Epoch: 262000 cost= 7.878980309618717e-12\n",
      "Epoch: 263000 cost= 3.125379006522581e-12\n",
      "Epoch: 264000 cost= 1.0600374744651475e-11\n",
      "Epoch: 265000 cost= 8.004283433976633e-12\n",
      "Epoch: 266000 cost= 2.2587964774075285e-11\n",
      "Epoch: 267000 cost= 7.80028472369132e-12\n",
      "Epoch: 268000 cost= 5.400525489770066e-10\n",
      "Epoch: 269000 cost= 7.19755881053071e-12\n",
      "Epoch: 270000 cost= 6.090434435714517e-12\n",
      "Epoch: 271000 cost= 9.979930799588107e-12\n",
      "Epoch: 272000 cost= 5.939660511119122e-12\n",
      "Epoch: 273000 cost= 1.068457851129597e-11\n",
      "Epoch: 274000 cost= 7.56241510385669e-12\n",
      "Epoch: 275000 cost= 5.066027747765063e-12\n",
      "Epoch: 276000 cost= 8.720654406935147e-11\n",
      "Epoch: 277000 cost= 2.9629481738494925e-12\n",
      "Epoch: 278000 cost= 6.242339689136826e-12\n",
      "Epoch: 279000 cost= 7.665873289162498e-12\n",
      "Epoch: 280000 cost= 5.987473479981038e-11\n",
      "Epoch: 281000 cost= 5.964922746854127e-09\n",
      "Epoch: 282000 cost= 2.902884876920808e-10\n",
      "Epoch: 283000 cost= 2.4579848804477206e-10\n",
      "Epoch: 284000 cost= 7.414690534011484e-12\n",
      "Epoch: 285000 cost= 4.4757974814827834e-12\n",
      "Epoch: 286000 cost= 8.137709401010811e-12\n",
      "Epoch: 287000 cost= 1.3312195790149417e-10\n",
      "Epoch: 288000 cost= 5.314110913465231e-12\n",
      "Epoch: 289000 cost= 8.76208090458408e-12\n",
      "Epoch: 290000 cost= 6.346091693231378e-12\n",
      "Epoch: 291000 cost= 9.263912553736375e-12\n",
      "Epoch: 292000 cost= 4.463314917310668e-12\n",
      "Epoch: 293000 cost= 1.1186323279714177e-11\n",
      "Epoch: 294000 cost= 8.976388498245964e-12\n",
      "Epoch: 295000 cost= 1.2019865658352558e-10\n",
      "Epoch: 296000 cost= 8.032888301294044e-12\n",
      "Epoch: 297000 cost= 6.786404916035252e-12\n",
      "Epoch: 298000 cost= 1.8139866923376026e-11\n",
      "Epoch: 299000 cost= 5.981645300606742e-12\n",
      "Epoch: 300000 cost= 6.401073536962029e-12\n",
      "Epoch: 301000 cost= 7.040606090034466e-12\n",
      "Epoch: 302000 cost= 1.1111039461183154e-11\n",
      "Epoch: 303000 cost= 3.41112085048186e-12\n",
      "Epoch: 304000 cost= 1.2216999258305808e-11\n",
      "Epoch: 305000 cost= 5.155109773664439e-12\n",
      "Epoch: 306000 cost= 7.336891944681456e-12\n",
      "Epoch: 307000 cost= 4.238267361488431e-12\n",
      "Epoch: 308000 cost= 5.939790326259242e-12\n",
      "Epoch: 309000 cost= 3.272954881653837e-11\n",
      "Epoch: 310000 cost= 7.728406167343641e-12\n",
      "Epoch: 311000 cost= 4.114019093564199e-12\n",
      "Epoch: 312000 cost= 1.827303516832579e-10\n",
      "Epoch: 313000 cost= 7.846484457544693e-11\n",
      "Epoch: 314000 cost= 3.9389645335961375e-12\n",
      "Epoch: 315000 cost= 5.523373208457528e-12\n",
      "Epoch: 316000 cost= 5.463830198467375e-12\n",
      "Epoch: 317000 cost= 9.815635746331561e-11\n",
      "Epoch: 318000 cost= 2.3541798371828904e-10\n",
      "Epoch: 319000 cost= 8.800152736151054e-12\n",
      "Epoch: 320000 cost= 4.940073523862498e-12\n",
      "Epoch: 321000 cost= 6.5706706568746664e-12\n",
      "Epoch: 322000 cost= 4.355740016355932e-12\n",
      "Epoch: 323000 cost= 4.454498474364596e-12\n",
      "Epoch: 324000 cost= 5.190079341415206e-12\n",
      "Epoch: 325000 cost= 8.870944488241032e-11\n",
      "Epoch: 326000 cost= 5.053145257551591e-12\n",
      "Epoch: 327000 cost= 6.778315466785905e-12\n",
      "Epoch: 328000 cost= 5.725992018497846e-12\n",
      "Epoch: 329000 cost= 4.9002236730127935e-12\n",
      "Epoch: 330000 cost= 9.490528964558226e-11\n",
      "Epoch: 331000 cost= 3.574877338596849e-10\n",
      "Epoch: 332000 cost= 4.370662541377153e-12\n",
      "Epoch: 333000 cost= 4.175101092398122e-12\n",
      "Epoch: 334000 cost= 5.131255807986716e-12\n",
      "Epoch: 335000 cost= 1.579945925247091e-11\n",
      "Epoch: 336000 cost= 5.301069551493417e-12\n",
      "Epoch: 337000 cost= 1.1667063438044096e-11\n",
      "Epoch: 338000 cost= 5.917199166991886e-12\n",
      "Epoch: 339000 cost= 7.616402300514302e-12\n",
      "Epoch: 340000 cost= 4.564547380116653e-12\n",
      "Epoch: 341000 cost= 4.314560716802326e-12\n",
      "Epoch: 342000 cost= 4.3290169481532047e-11\n",
      "Epoch: 343000 cost= 3.4563304186311745e-12\n",
      "Epoch: 344000 cost= 3.44618228629671e-12\n",
      "Epoch: 345000 cost= 3.64807612648436e-12\n",
      "Epoch: 346000 cost= 8.481235100795311e-12\n",
      "Epoch: 347000 cost= 4.4210736778691846e-12\n",
      "Epoch: 348000 cost= 2.445159063650208e-11\n",
      "Epoch: 349000 cost= 3.5385614432827577e-12\n",
      "Epoch: 350000 cost= 9.027964371447853e-11\n",
      "Epoch: 351000 cost= 6.643546823781321e-12\n",
      "Epoch: 352000 cost= 1.057448052732557e-11\n",
      "Epoch: 353000 cost= 4.5054832260860156e-12\n",
      "Epoch: 354000 cost= 4.1693604587352455e-12\n",
      "Epoch: 355000 cost= 4.8577032153718225e-12\n",
      "Epoch: 356000 cost= 3.187528510815533e-12\n",
      "Epoch: 357000 cost= 4.8683940270336885e-12\n",
      "Epoch: 358000 cost= 2.6336807734672618e-11\n",
      "Epoch: 359000 cost= 4.454206245739038e-12\n",
      "Epoch: 360000 cost= 7.834250753911236e-12\n",
      "Epoch: 361000 cost= 6.744036897219733e-12\n",
      "Epoch: 362000 cost= 1.7105864410134805e-10\n",
      "Epoch: 363000 cost= 5.151373396137618e-12\n",
      "Epoch: 364000 cost= 5.419754055269177e-12\n",
      "Epoch: 365000 cost= 6.2976663814384715e-12\n",
      "Epoch: 366000 cost= 4.5632294239557794e-11\n",
      "Epoch: 367000 cost= 4.227356167664971e-12\n",
      "Epoch: 368000 cost= 6.710590850361742e-12\n",
      "Epoch: 369000 cost= 2.825986695810985e-12\n",
      "Epoch: 370000 cost= 3.5445547683319684e-12\n",
      "Epoch: 371000 cost= 3.977353786671749e-09\n",
      "Epoch: 372000 cost= 4.495140515601662e-12\n",
      "Epoch: 373000 cost= 5.491933297019358e-10\n",
      "Epoch: 374000 cost= 5.009564811586653e-12\n",
      "Epoch: 375000 cost= 3.0020668748941453e-12\n",
      "Epoch: 376000 cost= 1.1197047629363245e-11\n",
      "Epoch: 377000 cost= 4.726824689762118e-12\n",
      "Epoch: 378000 cost= 3.5444413607847265e-12\n",
      "Epoch: 379000 cost= 3.409402100917891e-12\n",
      "Epoch: 380000 cost= 7.319502209196527e-12\n",
      "Epoch: 381000 cost= 4.653576713790445e-12\n",
      "Epoch: 382000 cost= 3.56412510615911e-10\n",
      "Epoch: 383000 cost= 1.1690391421107874e-11\n",
      "Epoch: 384000 cost= 3.932359068000342e-12\n",
      "Epoch: 385000 cost= 3.9799541665802565e-09\n",
      "Epoch: 386000 cost= 1.403936689126084e-11\n",
      "Epoch: 387000 cost= 4.0412604541730425e-12\n",
      "Epoch: 388000 cost= 7.578492376471754e-12\n",
      "Epoch: 389000 cost= 3.671801361224136e-12\n",
      "Epoch: 390000 cost= 3.624598306680345e-12\n",
      "Epoch: 391000 cost= 2.2286982011056797e-12\n",
      "Epoch: 392000 cost= 1.5291200019159254e-10\n",
      "Epoch: 393000 cost= 3.867352763263035e-12\n",
      "Epoch: 394000 cost= 3.1862433698404136e-12\n",
      "Epoch: 395000 cost= 2.544403252905762e-10\n",
      "Epoch: 396000 cost= 9.560436007675459e-11\n",
      "Epoch: 397000 cost= 3.4461106566731808e-12\n",
      "Epoch: 398000 cost= 3.7730497979421296e-12\n",
      "Epoch: 399000 cost= 3.0432860369476265e-12\n",
      "Epoch: 400000 cost= 4.076605806396794e-12\n",
      "Optimization Finished!\n"
     ]
    }
   ],
   "source": [
    "sess.run(init)\n",
    "# Training cycle\n",
    "for epoch in range(training_epochs):\n",
    "    avg_cost = 0.\n",
    "    total_batch = int(len(train_data)/batch_size)\n",
    "    # Loop over all batches\n",
    "    for i in range(total_batch):\n",
    "        batch_xs, batch_ys = get_batch2(batch_size, train_data, train_label)\n",
    "        # Fit training using batch data\n",
    "        _, c = sess.run([optimizer, cost], feed_dict={x:batch_xs,y:batch_ys})\n",
    "        # Compute average loss\n",
    "        avg_cost += c / total_batch\n",
    "    # Display logs per epoch step\n",
    "    if (epoch+1) % display_step == 0:\n",
    "        print(\"Epoch:\", '%04d' % (epoch+1), \"cost=\", str(avg_cost))\n",
    "\n",
    "print(\"Optimization Finished!\")\n"
   ]
  },
  {
   "cell_type": "markdown",
   "metadata": {},
   "source": [
    "define a function in python to compute sigmoid of an array."
   ]
  },
  {
   "cell_type": "code",
   "execution_count": 12,
   "metadata": {
    "tags": []
   },
   "outputs": [],
   "source": [
    "def sigmoida(z):\n",
    "    res = np.zeros(len(z))\n",
    "    for i in range(len(z)):\n",
    "        y = 1.0/(1.0+np.exp(-z[i]))\n",
    "        if y > 0.5:\n",
    "            res[i] = 1\n",
    "        else:\n",
    "            res[i] = 0\n",
    "    return res"
   ]
  },
  {
   "cell_type": "code",
   "execution_count": 13,
   "metadata": {
    "collapsed": false,
    "jupyter": {
     "outputs_hidden": false
    }
   },
   "outputs": [],
   "source": [
    "p = sigmoida(pred.eval({x:test_data}))\n",
    "q = y.eval({y:test_label})"
   ]
  },
  {
   "cell_type": "markdown",
   "metadata": {},
   "source": [
    "how accurate is this. In other words whaat fraction of the cases have p = q.   "
   ]
  },
  {
   "cell_type": "code",
   "execution_count": 14,
   "metadata": {
    "collapsed": false,
    "jupyter": {
     "outputs_hidden": false
    }
   },
   "outputs": [],
   "source": [
    "def accurate(p,q):\n",
    "    total = 0.0\n",
    "    numones = 0.\n",
    "    numzeros = 0.\n",
    "    for i in range(len(p)):\n",
    "        if p[i] == 0:\n",
    "            numzeros += 1\n",
    "        else:\n",
    "            numones += 1\n",
    "        if p[i] == q[i]:\n",
    "            total +=1\n",
    "    print(\"accuracy = \"+str(total/len(p)))\n",
    "    print('ratio of 1s ='+str(numones/len(p)))\n",
    "    print('ratio of 0s ='+str(numzeros/len(p)))\n",
    "    \n"
   ]
  },
  {
   "cell_type": "code",
   "execution_count": 15,
   "metadata": {
    "collapsed": false,
    "jupyter": {
     "outputs_hidden": false
    }
   },
   "outputs": [
    {
     "name": "stdout",
     "output_type": "stream",
     "text": [
      "accuracy = 1.0\n",
      "ratio of 1s =0.16\n",
      "ratio of 0s =0.84\n"
     ]
    }
   ],
   "source": [
    "accurate(p,q)"
   ]
  },
  {
   "cell_type": "code",
   "execution_count": 16,
   "metadata": {
    "tags": []
   },
   "outputs": [],
   "source": [
    "def softmax(v):\n",
    "    k = len(v)\n",
    "    res = np.zeros(k)\n",
    "    tot = 0.0\n",
    "    for i in range(k):\n",
    "        res[i] = np.exp(v[i])\n",
    "        tot += res[i]\n",
    "    for i in range(k):\n",
    "        res[i] = res[i]/tot\n",
    "    return res"
   ]
  },
  {
   "cell_type": "code",
   "execution_count": 17,
   "metadata": {
    "tags": []
   },
   "outputs": [],
   "source": [
    "def sigmoid(x):\n",
    "    y = 1.0/(1.0+np.exp(-x))\n",
    "    if y > 0.5:\n",
    "        return 1\n",
    "    else:\n",
    "        return 0"
   ]
  },
  {
   "cell_type": "markdown",
   "metadata": {},
   "source": [
    "if we wish, we may look at the trained W and b arrays."
   ]
  },
  {
   "cell_type": "code",
   "execution_count": 18,
   "metadata": {
    "collapsed": false,
    "jupyter": {
     "outputs_hidden": false
    }
   },
   "outputs": [],
   "source": [
    "w =W.eval()"
   ]
  },
  {
   "cell_type": "code",
   "execution_count": 19,
   "metadata": {
    "collapsed": false,
    "jupyter": {
     "outputs_hidden": false
    }
   },
   "outputs": [
    {
     "data": {
      "text/plain": [
       "array([[ 5.7439762e-03],\n",
       "       [ 4.8639493e+00],\n",
       "       [-4.8419430e+01]], dtype=float32)"
      ]
     },
     "execution_count": 19,
     "metadata": {},
     "output_type": "execute_result"
    }
   ],
   "source": [
    "w"
   ]
  },
  {
   "cell_type": "code",
   "execution_count": 20,
   "metadata": {
    "collapsed": false,
    "jupyter": {
     "outputs_hidden": false
    }
   },
   "outputs": [],
   "source": [
    "lb =b.eval()"
   ]
  },
  {
   "cell_type": "code",
   "execution_count": 21,
   "metadata": {
    "collapsed": false,
    "jupyter": {
     "outputs_hidden": false
    }
   },
   "outputs": [
    {
     "data": {
      "text/plain": [
       "array([49.31305], dtype=float32)"
      ]
     },
     "execution_count": 21,
     "metadata": {},
     "output_type": "execute_result"
    }
   ],
   "source": [
    "lb"
   ]
  },
  {
   "cell_type": "code",
   "execution_count": 22,
   "metadata": {
    "collapsed": false,
    "jupyter": {
     "outputs_hidden": false
    }
   },
   "outputs": [
    {
     "name": "stdout",
     "output_type": "stream",
     "text": [
      "0\n",
      "0\n",
      "1\n",
      "0\n",
      "0\n",
      "0\n",
      "1\n",
      "0\n",
      "0\n",
      "0\n",
      "0\n",
      "1\n",
      "1\n",
      "0\n",
      "1\n",
      "0\n",
      "0\n",
      "0\n",
      "0\n",
      "1\n"
     ]
    },
    {
     "name": "stderr",
     "output_type": "stream",
     "text": [
      "/anaconda/envs/azureml_py36_tensorflow/lib/python3.6/site-packages/ipykernel_launcher.py:2: RuntimeWarning: overflow encountered in exp\n",
      "  \n"
     ]
    }
   ],
   "source": [
    "for i in range(20):\n",
    "    print(sigmoid(np.matmul(train_data[i], w)+lb))"
   ]
  },
  {
   "cell_type": "code",
   "execution_count": null,
   "metadata": {
    "collapsed": true,
    "jupyter": {
     "outputs_hidden": true
    }
   },
   "outputs": [],
   "source": []
  },
  {
   "cell_type": "code",
   "execution_count": null,
   "metadata": {
    "collapsed": true,
    "jupyter": {
     "outputs_hidden": true
    }
   },
   "outputs": [],
   "source": []
  },
  {
   "cell_type": "code",
   "execution_count": null,
   "metadata": {
    "collapsed": true,
    "jupyter": {
     "outputs_hidden": true
    }
   },
   "outputs": [],
   "source": []
  }
 ],
 "metadata": {
  "anaconda-cloud": {},
  "kernelspec": {
   "display_name": "azureml_py36_tensorflow",
   "language": "python",
   "name": "conda-env-azureml_py36_tensorflow-py"
  },
  "language_info": {
   "codemirror_mode": {
    "name": "ipython",
    "version": 3
   },
   "file_extension": ".py",
   "mimetype": "text/x-python",
   "name": "python",
   "nbconvert_exporter": "python",
   "pygments_lexer": "ipython3",
   "version": "3.6.12"
  }
 },
 "nbformat": 4,
 "nbformat_minor": 4
}
